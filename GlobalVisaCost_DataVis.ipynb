{
 "cells": [
  {
   "cell_type": "code",
   "execution_count": 14,
   "metadata": {},
   "outputs": [],
   "source": [
    "import plotly.graph_objects as go\n",
    "import pandas as pd\n",
    "\n",
    "pd.set_option('display.max_columns', None)"
   ]
  },
  {
   "cell_type": "code",
   "execution_count": 65,
   "metadata": {},
   "outputs": [
    {
     "data": {
      "text/html": [
       "<div>\n",
       "<style scoped>\n",
       "    .dataframe tbody tr th:only-of-type {\n",
       "        vertical-align: middle;\n",
       "    }\n",
       "\n",
       "    .dataframe tbody tr th {\n",
       "        vertical-align: top;\n",
       "    }\n",
       "\n",
       "    .dataframe thead th {\n",
       "        text-align: right;\n",
       "    }\n",
       "</style>\n",
       "<table border=\"1\" class=\"dataframe\">\n",
       "  <thead>\n",
       "    <tr style=\"text-align: right;\">\n",
       "      <th></th>\n",
       "      <th>source</th>\n",
       "      <th>target</th>\n",
       "      <th>source_iso3</th>\n",
       "      <th>target_iso3</th>\n",
       "      <th>tourist_visa</th>\n",
       "      <th>student_visa</th>\n",
       "      <th>business_visa</th>\n",
       "      <th>work_visa</th>\n",
       "      <th>family_reunification_visa</th>\n",
       "      <th>transit_visa</th>\n",
       "      <th>other_motives_visa</th>\n",
       "      <th>tourist_perdailyincome</th>\n",
       "      <th>student_perdailyincome</th>\n",
       "      <th>business_perdailyincome</th>\n",
       "      <th>work_perdailyincome</th>\n",
       "      <th>family_perdailyincome</th>\n",
       "      <th>transit_perdailyincome</th>\n",
       "      <th>other_perdailyincome</th>\n",
       "      <th>source_region</th>\n",
       "      <th>source_subregion</th>\n",
       "      <th>target_region</th>\n",
       "      <th>target_subregion</th>\n",
       "      <th>sum_costs</th>\n",
       "      <th>sum_perdailyincome</th>\n",
       "      <th>source_lat</th>\n",
       "      <th>source_lon</th>\n",
       "      <th>target_lat</th>\n",
       "      <th>target_lon</th>\n",
       "      <th>source_region_lat</th>\n",
       "      <th>source_region_lon</th>\n",
       "      <th>target_region_lat</th>\n",
       "      <th>target_region_lon</th>\n",
       "    </tr>\n",
       "  </thead>\n",
       "  <tbody>\n",
       "    <tr>\n",
       "      <th>0</th>\n",
       "      <td>Afghanistan</td>\n",
       "      <td>Algeria</td>\n",
       "      <td>AFG</td>\n",
       "      <td>DZA</td>\n",
       "      <td>109.0</td>\n",
       "      <td>0.0</td>\n",
       "      <td>0.0</td>\n",
       "      <td>0.0</td>\n",
       "      <td>0.0</td>\n",
       "      <td>0.0</td>\n",
       "      <td>0.0</td>\n",
       "      <td>72.336365</td>\n",
       "      <td>0.000000</td>\n",
       "      <td>0.000000</td>\n",
       "      <td>0.000000</td>\n",
       "      <td>0.000000</td>\n",
       "      <td>0.000000</td>\n",
       "      <td>0.00000</td>\n",
       "      <td>Asia</td>\n",
       "      <td>Southern Asia</td>\n",
       "      <td>Africa</td>\n",
       "      <td>Northern Africa</td>\n",
       "      <td>109.0</td>\n",
       "      <td>72.336365</td>\n",
       "      <td>33.939110</td>\n",
       "      <td>67.709953</td>\n",
       "      <td>28.033886</td>\n",
       "      <td>1.659626</td>\n",
       "      <td>34.0479</td>\n",
       "      <td>100.6179</td>\n",
       "      <td>-8.7832</td>\n",
       "      <td>34.5085</td>\n",
       "    </tr>\n",
       "    <tr>\n",
       "      <th>1</th>\n",
       "      <td>Afghanistan</td>\n",
       "      <td>Angola</td>\n",
       "      <td>AFG</td>\n",
       "      <td>AGO</td>\n",
       "      <td>60.0</td>\n",
       "      <td>60.0</td>\n",
       "      <td>60.0</td>\n",
       "      <td>100.0</td>\n",
       "      <td>60.0</td>\n",
       "      <td>30.0</td>\n",
       "      <td>100.0</td>\n",
       "      <td>39.818184</td>\n",
       "      <td>39.818184</td>\n",
       "      <td>39.818184</td>\n",
       "      <td>66.363640</td>\n",
       "      <td>39.818184</td>\n",
       "      <td>19.909092</td>\n",
       "      <td>66.36364</td>\n",
       "      <td>Asia</td>\n",
       "      <td>Southern Asia</td>\n",
       "      <td>Africa</td>\n",
       "      <td>Sub-Saharan Africa</td>\n",
       "      <td>470.0</td>\n",
       "      <td>311.909107</td>\n",
       "      <td>33.939110</td>\n",
       "      <td>67.709953</td>\n",
       "      <td>-11.202692</td>\n",
       "      <td>17.873887</td>\n",
       "      <td>34.0479</td>\n",
       "      <td>100.6179</td>\n",
       "      <td>-8.7832</td>\n",
       "      <td>34.5085</td>\n",
       "    </tr>\n",
       "    <tr>\n",
       "      <th>2</th>\n",
       "      <td>Afghanistan</td>\n",
       "      <td>Antigua and Barbuda</td>\n",
       "      <td>AFG</td>\n",
       "      <td>ATG</td>\n",
       "      <td>50.0</td>\n",
       "      <td>0.0</td>\n",
       "      <td>50.0</td>\n",
       "      <td>0.0</td>\n",
       "      <td>0.0</td>\n",
       "      <td>50.0</td>\n",
       "      <td>0.0</td>\n",
       "      <td>33.181820</td>\n",
       "      <td>0.000000</td>\n",
       "      <td>33.181820</td>\n",
       "      <td>0.000000</td>\n",
       "      <td>0.000000</td>\n",
       "      <td>33.181820</td>\n",
       "      <td>0.00000</td>\n",
       "      <td>Asia</td>\n",
       "      <td>Southern Asia</td>\n",
       "      <td>Americas</td>\n",
       "      <td>Latin America and the Caribbean</td>\n",
       "      <td>150.0</td>\n",
       "      <td>99.545460</td>\n",
       "      <td>33.939110</td>\n",
       "      <td>67.709953</td>\n",
       "      <td>17.060816</td>\n",
       "      <td>-61.796428</td>\n",
       "      <td>34.0479</td>\n",
       "      <td>100.6179</td>\n",
       "      <td>54.5260</td>\n",
       "      <td>-105.2551</td>\n",
       "    </tr>\n",
       "    <tr>\n",
       "      <th>3</th>\n",
       "      <td>Afghanistan</td>\n",
       "      <td>Azerbaijan</td>\n",
       "      <td>AFG</td>\n",
       "      <td>AZE</td>\n",
       "      <td>23.0</td>\n",
       "      <td>0.0</td>\n",
       "      <td>23.0</td>\n",
       "      <td>0.0</td>\n",
       "      <td>0.0</td>\n",
       "      <td>0.0</td>\n",
       "      <td>0.0</td>\n",
       "      <td>15.263637</td>\n",
       "      <td>0.000000</td>\n",
       "      <td>15.263637</td>\n",
       "      <td>0.000000</td>\n",
       "      <td>0.000000</td>\n",
       "      <td>0.000000</td>\n",
       "      <td>0.00000</td>\n",
       "      <td>Asia</td>\n",
       "      <td>Southern Asia</td>\n",
       "      <td>Asia</td>\n",
       "      <td>Western Asia</td>\n",
       "      <td>46.0</td>\n",
       "      <td>30.527273</td>\n",
       "      <td>33.939110</td>\n",
       "      <td>67.709953</td>\n",
       "      <td>40.143105</td>\n",
       "      <td>47.576927</td>\n",
       "      <td>34.0479</td>\n",
       "      <td>100.6179</td>\n",
       "      <td>34.0479</td>\n",
       "      <td>100.6179</td>\n",
       "    </tr>\n",
       "    <tr>\n",
       "      <th>4</th>\n",
       "      <td>Afghanistan</td>\n",
       "      <td>Bahrain</td>\n",
       "      <td>AFG</td>\n",
       "      <td>BHR</td>\n",
       "      <td>29.0</td>\n",
       "      <td>0.0</td>\n",
       "      <td>29.0</td>\n",
       "      <td>100.0</td>\n",
       "      <td>22.0</td>\n",
       "      <td>0.0</td>\n",
       "      <td>0.0</td>\n",
       "      <td>19.245455</td>\n",
       "      <td>0.000000</td>\n",
       "      <td>19.245455</td>\n",
       "      <td>66.363640</td>\n",
       "      <td>14.600000</td>\n",
       "      <td>0.000000</td>\n",
       "      <td>0.00000</td>\n",
       "      <td>Asia</td>\n",
       "      <td>Southern Asia</td>\n",
       "      <td>Asia</td>\n",
       "      <td>Western Asia</td>\n",
       "      <td>180.0</td>\n",
       "      <td>119.454550</td>\n",
       "      <td>33.939110</td>\n",
       "      <td>67.709953</td>\n",
       "      <td>25.930414</td>\n",
       "      <td>50.637772</td>\n",
       "      <td>34.0479</td>\n",
       "      <td>100.6179</td>\n",
       "      <td>34.0479</td>\n",
       "      <td>100.6179</td>\n",
       "    </tr>\n",
       "    <tr>\n",
       "      <th>...</th>\n",
       "      <td>...</td>\n",
       "      <td>...</td>\n",
       "      <td>...</td>\n",
       "      <td>...</td>\n",
       "      <td>...</td>\n",
       "      <td>...</td>\n",
       "      <td>...</td>\n",
       "      <td>...</td>\n",
       "      <td>...</td>\n",
       "      <td>...</td>\n",
       "      <td>...</td>\n",
       "      <td>...</td>\n",
       "      <td>...</td>\n",
       "      <td>...</td>\n",
       "      <td>...</td>\n",
       "      <td>...</td>\n",
       "      <td>...</td>\n",
       "      <td>...</td>\n",
       "      <td>...</td>\n",
       "      <td>...</td>\n",
       "      <td>...</td>\n",
       "      <td>...</td>\n",
       "      <td>...</td>\n",
       "      <td>...</td>\n",
       "      <td>...</td>\n",
       "      <td>...</td>\n",
       "      <td>...</td>\n",
       "      <td>...</td>\n",
       "      <td>...</td>\n",
       "      <td>...</td>\n",
       "      <td>...</td>\n",
       "      <td>...</td>\n",
       "    </tr>\n",
       "    <tr>\n",
       "      <th>14465</th>\n",
       "      <td>Zimbabwe</td>\n",
       "      <td>United States of America</td>\n",
       "      <td>ZWE</td>\n",
       "      <td>USA</td>\n",
       "      <td>160.0</td>\n",
       "      <td>160.0</td>\n",
       "      <td>160.0</td>\n",
       "      <td>190.0</td>\n",
       "      <td>325.0</td>\n",
       "      <td>0.0</td>\n",
       "      <td>0.0</td>\n",
       "      <td>42.627739</td>\n",
       "      <td>42.627739</td>\n",
       "      <td>42.627739</td>\n",
       "      <td>50.620438</td>\n",
       "      <td>86.587593</td>\n",
       "      <td>0.000000</td>\n",
       "      <td>0.00000</td>\n",
       "      <td>Africa</td>\n",
       "      <td>Sub-Saharan Africa</td>\n",
       "      <td>Americas</td>\n",
       "      <td>Northern America</td>\n",
       "      <td>995.0</td>\n",
       "      <td>265.091248</td>\n",
       "      <td>-19.015438</td>\n",
       "      <td>29.154857</td>\n",
       "      <td>37.090240</td>\n",
       "      <td>-95.712891</td>\n",
       "      <td>-8.7832</td>\n",
       "      <td>34.5085</td>\n",
       "      <td>54.5260</td>\n",
       "      <td>-105.2551</td>\n",
       "    </tr>\n",
       "    <tr>\n",
       "      <th>14466</th>\n",
       "      <td>Zimbabwe</td>\n",
       "      <td>Uruguay</td>\n",
       "      <td>ZWE</td>\n",
       "      <td>URY</td>\n",
       "      <td>45.0</td>\n",
       "      <td>0.0</td>\n",
       "      <td>0.0</td>\n",
       "      <td>0.0</td>\n",
       "      <td>0.0</td>\n",
       "      <td>0.0</td>\n",
       "      <td>0.0</td>\n",
       "      <td>11.989051</td>\n",
       "      <td>0.000000</td>\n",
       "      <td>0.000000</td>\n",
       "      <td>0.000000</td>\n",
       "      <td>0.000000</td>\n",
       "      <td>0.000000</td>\n",
       "      <td>0.00000</td>\n",
       "      <td>Africa</td>\n",
       "      <td>Sub-Saharan Africa</td>\n",
       "      <td>Americas</td>\n",
       "      <td>Latin America and the Caribbean</td>\n",
       "      <td>45.0</td>\n",
       "      <td>11.989051</td>\n",
       "      <td>-19.015438</td>\n",
       "      <td>29.154857</td>\n",
       "      <td>-32.522779</td>\n",
       "      <td>-55.765835</td>\n",
       "      <td>-8.7832</td>\n",
       "      <td>34.5085</td>\n",
       "      <td>54.5260</td>\n",
       "      <td>-105.2551</td>\n",
       "    </tr>\n",
       "    <tr>\n",
       "      <th>14467</th>\n",
       "      <td>Zimbabwe</td>\n",
       "      <td>Uzbekistan</td>\n",
       "      <td>ZWE</td>\n",
       "      <td>UZB</td>\n",
       "      <td>60.0</td>\n",
       "      <td>0.0</td>\n",
       "      <td>0.0</td>\n",
       "      <td>0.0</td>\n",
       "      <td>0.0</td>\n",
       "      <td>40.0</td>\n",
       "      <td>0.0</td>\n",
       "      <td>15.985401</td>\n",
       "      <td>0.000000</td>\n",
       "      <td>0.000000</td>\n",
       "      <td>0.000000</td>\n",
       "      <td>0.000000</td>\n",
       "      <td>10.656935</td>\n",
       "      <td>0.00000</td>\n",
       "      <td>Africa</td>\n",
       "      <td>Sub-Saharan Africa</td>\n",
       "      <td>Asia</td>\n",
       "      <td>Central Asia</td>\n",
       "      <td>100.0</td>\n",
       "      <td>26.642336</td>\n",
       "      <td>-19.015438</td>\n",
       "      <td>29.154857</td>\n",
       "      <td>41.377491</td>\n",
       "      <td>64.585262</td>\n",
       "      <td>-8.7832</td>\n",
       "      <td>34.5085</td>\n",
       "      <td>34.0479</td>\n",
       "      <td>100.6179</td>\n",
       "    </tr>\n",
       "    <tr>\n",
       "      <th>14468</th>\n",
       "      <td>Zimbabwe</td>\n",
       "      <td>Venezuela (Bolivarian Republic of)</td>\n",
       "      <td>ZWE</td>\n",
       "      <td>VEN</td>\n",
       "      <td>30.0</td>\n",
       "      <td>0.0</td>\n",
       "      <td>0.0</td>\n",
       "      <td>0.0</td>\n",
       "      <td>0.0</td>\n",
       "      <td>0.0</td>\n",
       "      <td>0.0</td>\n",
       "      <td>7.992701</td>\n",
       "      <td>0.000000</td>\n",
       "      <td>0.000000</td>\n",
       "      <td>0.000000</td>\n",
       "      <td>0.000000</td>\n",
       "      <td>0.000000</td>\n",
       "      <td>0.00000</td>\n",
       "      <td>Africa</td>\n",
       "      <td>Sub-Saharan Africa</td>\n",
       "      <td>Americas</td>\n",
       "      <td>Latin America and the Caribbean</td>\n",
       "      <td>30.0</td>\n",
       "      <td>7.992701</td>\n",
       "      <td>-19.015438</td>\n",
       "      <td>29.154857</td>\n",
       "      <td>6.423750</td>\n",
       "      <td>-66.589730</td>\n",
       "      <td>-8.7832</td>\n",
       "      <td>34.5085</td>\n",
       "      <td>54.5260</td>\n",
       "      <td>-105.2551</td>\n",
       "    </tr>\n",
       "    <tr>\n",
       "      <th>14469</th>\n",
       "      <td>Zimbabwe</td>\n",
       "      <td>Viet Nam</td>\n",
       "      <td>ZWE</td>\n",
       "      <td>VNM</td>\n",
       "      <td>25.0</td>\n",
       "      <td>0.0</td>\n",
       "      <td>0.0</td>\n",
       "      <td>0.0</td>\n",
       "      <td>10.0</td>\n",
       "      <td>25.0</td>\n",
       "      <td>0.0</td>\n",
       "      <td>6.660584</td>\n",
       "      <td>0.000000</td>\n",
       "      <td>0.000000</td>\n",
       "      <td>0.000000</td>\n",
       "      <td>2.664234</td>\n",
       "      <td>6.660584</td>\n",
       "      <td>0.00000</td>\n",
       "      <td>Africa</td>\n",
       "      <td>Sub-Saharan Africa</td>\n",
       "      <td>Asia</td>\n",
       "      <td>South-eastern Asia</td>\n",
       "      <td>60.0</td>\n",
       "      <td>15.985402</td>\n",
       "      <td>-19.015438</td>\n",
       "      <td>29.154857</td>\n",
       "      <td>14.058324</td>\n",
       "      <td>108.277199</td>\n",
       "      <td>-8.7832</td>\n",
       "      <td>34.5085</td>\n",
       "      <td>34.0479</td>\n",
       "      <td>100.6179</td>\n",
       "    </tr>\n",
       "  </tbody>\n",
       "</table>\n",
       "<p>14470 rows × 32 columns</p>\n",
       "</div>"
      ],
      "text/plain": [
       "            source                              target source_iso3  \\\n",
       "0      Afghanistan                             Algeria         AFG   \n",
       "1      Afghanistan                              Angola         AFG   \n",
       "2      Afghanistan                 Antigua and Barbuda         AFG   \n",
       "3      Afghanistan                          Azerbaijan         AFG   \n",
       "4      Afghanistan                             Bahrain         AFG   \n",
       "...            ...                                 ...         ...   \n",
       "14465     Zimbabwe            United States of America         ZWE   \n",
       "14466     Zimbabwe                             Uruguay         ZWE   \n",
       "14467     Zimbabwe                          Uzbekistan         ZWE   \n",
       "14468     Zimbabwe  Venezuela (Bolivarian Republic of)         ZWE   \n",
       "14469     Zimbabwe                            Viet Nam         ZWE   \n",
       "\n",
       "      target_iso3  tourist_visa  student_visa  business_visa  work_visa  \\\n",
       "0             DZA         109.0           0.0            0.0        0.0   \n",
       "1             AGO          60.0          60.0           60.0      100.0   \n",
       "2             ATG          50.0           0.0           50.0        0.0   \n",
       "3             AZE          23.0           0.0           23.0        0.0   \n",
       "4             BHR          29.0           0.0           29.0      100.0   \n",
       "...           ...           ...           ...            ...        ...   \n",
       "14465         USA         160.0         160.0          160.0      190.0   \n",
       "14466         URY          45.0           0.0            0.0        0.0   \n",
       "14467         UZB          60.0           0.0            0.0        0.0   \n",
       "14468         VEN          30.0           0.0            0.0        0.0   \n",
       "14469         VNM          25.0           0.0            0.0        0.0   \n",
       "\n",
       "       family_reunification_visa  transit_visa  other_motives_visa  \\\n",
       "0                            0.0           0.0                 0.0   \n",
       "1                           60.0          30.0               100.0   \n",
       "2                            0.0          50.0                 0.0   \n",
       "3                            0.0           0.0                 0.0   \n",
       "4                           22.0           0.0                 0.0   \n",
       "...                          ...           ...                 ...   \n",
       "14465                      325.0           0.0                 0.0   \n",
       "14466                        0.0           0.0                 0.0   \n",
       "14467                        0.0          40.0                 0.0   \n",
       "14468                        0.0           0.0                 0.0   \n",
       "14469                       10.0          25.0                 0.0   \n",
       "\n",
       "       tourist_perdailyincome  student_perdailyincome  \\\n",
       "0                   72.336365                0.000000   \n",
       "1                   39.818184               39.818184   \n",
       "2                   33.181820                0.000000   \n",
       "3                   15.263637                0.000000   \n",
       "4                   19.245455                0.000000   \n",
       "...                       ...                     ...   \n",
       "14465               42.627739               42.627739   \n",
       "14466               11.989051                0.000000   \n",
       "14467               15.985401                0.000000   \n",
       "14468                7.992701                0.000000   \n",
       "14469                6.660584                0.000000   \n",
       "\n",
       "       business_perdailyincome  work_perdailyincome  family_perdailyincome  \\\n",
       "0                     0.000000             0.000000               0.000000   \n",
       "1                    39.818184            66.363640              39.818184   \n",
       "2                    33.181820             0.000000               0.000000   \n",
       "3                    15.263637             0.000000               0.000000   \n",
       "4                    19.245455            66.363640              14.600000   \n",
       "...                        ...                  ...                    ...   \n",
       "14465                42.627739            50.620438              86.587593   \n",
       "14466                 0.000000             0.000000               0.000000   \n",
       "14467                 0.000000             0.000000               0.000000   \n",
       "14468                 0.000000             0.000000               0.000000   \n",
       "14469                 0.000000             0.000000               2.664234   \n",
       "\n",
       "       transit_perdailyincome  other_perdailyincome source_region  \\\n",
       "0                    0.000000               0.00000          Asia   \n",
       "1                   19.909092              66.36364          Asia   \n",
       "2                   33.181820               0.00000          Asia   \n",
       "3                    0.000000               0.00000          Asia   \n",
       "4                    0.000000               0.00000          Asia   \n",
       "...                       ...                   ...           ...   \n",
       "14465                0.000000               0.00000        Africa   \n",
       "14466                0.000000               0.00000        Africa   \n",
       "14467               10.656935               0.00000        Africa   \n",
       "14468                0.000000               0.00000        Africa   \n",
       "14469                6.660584               0.00000        Africa   \n",
       "\n",
       "         source_subregion target_region                 target_subregion  \\\n",
       "0           Southern Asia        Africa                  Northern Africa   \n",
       "1           Southern Asia        Africa               Sub-Saharan Africa   \n",
       "2           Southern Asia      Americas  Latin America and the Caribbean   \n",
       "3           Southern Asia          Asia                     Western Asia   \n",
       "4           Southern Asia          Asia                     Western Asia   \n",
       "...                   ...           ...                              ...   \n",
       "14465  Sub-Saharan Africa      Americas                 Northern America   \n",
       "14466  Sub-Saharan Africa      Americas  Latin America and the Caribbean   \n",
       "14467  Sub-Saharan Africa          Asia                     Central Asia   \n",
       "14468  Sub-Saharan Africa      Americas  Latin America and the Caribbean   \n",
       "14469  Sub-Saharan Africa          Asia               South-eastern Asia   \n",
       "\n",
       "       sum_costs  sum_perdailyincome  source_lat  source_lon  target_lat  \\\n",
       "0          109.0           72.336365   33.939110   67.709953   28.033886   \n",
       "1          470.0          311.909107   33.939110   67.709953  -11.202692   \n",
       "2          150.0           99.545460   33.939110   67.709953   17.060816   \n",
       "3           46.0           30.527273   33.939110   67.709953   40.143105   \n",
       "4          180.0          119.454550   33.939110   67.709953   25.930414   \n",
       "...          ...                 ...         ...         ...         ...   \n",
       "14465      995.0          265.091248  -19.015438   29.154857   37.090240   \n",
       "14466       45.0           11.989051  -19.015438   29.154857  -32.522779   \n",
       "14467      100.0           26.642336  -19.015438   29.154857   41.377491   \n",
       "14468       30.0            7.992701  -19.015438   29.154857    6.423750   \n",
       "14469       60.0           15.985402  -19.015438   29.154857   14.058324   \n",
       "\n",
       "       target_lon  source_region_lat  source_region_lon  target_region_lat  \\\n",
       "0        1.659626            34.0479           100.6179            -8.7832   \n",
       "1       17.873887            34.0479           100.6179            -8.7832   \n",
       "2      -61.796428            34.0479           100.6179            54.5260   \n",
       "3       47.576927            34.0479           100.6179            34.0479   \n",
       "4       50.637772            34.0479           100.6179            34.0479   \n",
       "...           ...                ...                ...                ...   \n",
       "14465  -95.712891            -8.7832            34.5085            54.5260   \n",
       "14466  -55.765835            -8.7832            34.5085            54.5260   \n",
       "14467   64.585262            -8.7832            34.5085            34.0479   \n",
       "14468  -66.589730            -8.7832            34.5085            54.5260   \n",
       "14469  108.277199            -8.7832            34.5085            34.0479   \n",
       "\n",
       "       target_region_lon  \n",
       "0                34.5085  \n",
       "1                34.5085  \n",
       "2              -105.2551  \n",
       "3               100.6179  \n",
       "4               100.6179  \n",
       "...                  ...  \n",
       "14465          -105.2551  \n",
       "14466          -105.2551  \n",
       "14467           100.6179  \n",
       "14468          -105.2551  \n",
       "14469           100.6179  \n",
       "\n",
       "[14470 rows x 32 columns]"
      ]
     },
     "execution_count": 65,
     "metadata": {},
     "output_type": "execute_result"
    }
   ],
   "source": [
    "visa_costs = pd.read_csv('GlobalVisaCostDataset_latslons.csv', index_col=0)\n",
    "visa_costs"
   ]
  },
  {
   "cell_type": "markdown",
   "metadata": {},
   "source": [
    "### Group by Source sub_region, average visa costs"
   ]
  },
  {
   "cell_type": "code",
   "execution_count": 66,
   "metadata": {
    "scrolled": true
   },
   "outputs": [
    {
     "data": {
      "text/html": [
       "<div>\n",
       "<style scoped>\n",
       "    .dataframe tbody tr th:only-of-type {\n",
       "        vertical-align: middle;\n",
       "    }\n",
       "\n",
       "    .dataframe tbody tr th {\n",
       "        vertical-align: top;\n",
       "    }\n",
       "\n",
       "    .dataframe thead th {\n",
       "        text-align: right;\n",
       "    }\n",
       "</style>\n",
       "<table border=\"1\" class=\"dataframe\">\n",
       "  <thead>\n",
       "    <tr style=\"text-align: right;\">\n",
       "      <th></th>\n",
       "      <th>source_region</th>\n",
       "      <th>target_region</th>\n",
       "      <th>tourist_visa</th>\n",
       "      <th>student_visa</th>\n",
       "      <th>business_visa</th>\n",
       "      <th>work_visa</th>\n",
       "      <th>family_reunification_visa</th>\n",
       "      <th>transit_visa</th>\n",
       "    </tr>\n",
       "  </thead>\n",
       "  <tbody>\n",
       "    <tr>\n",
       "      <th>0</th>\n",
       "      <td>Africa</td>\n",
       "      <td>Africa</td>\n",
       "      <td>65.762357</td>\n",
       "      <td>14.797529</td>\n",
       "      <td>63.549430</td>\n",
       "      <td>13.488593</td>\n",
       "      <td>10.475285</td>\n",
       "      <td>21.437262</td>\n",
       "    </tr>\n",
       "    <tr>\n",
       "      <th>1</th>\n",
       "      <td>Africa</td>\n",
       "      <td>Americas</td>\n",
       "      <td>67.407906</td>\n",
       "      <td>55.547519</td>\n",
       "      <td>94.349874</td>\n",
       "      <td>99.446594</td>\n",
       "      <td>26.038688</td>\n",
       "      <td>1.640034</td>\n",
       "    </tr>\n",
       "    <tr>\n",
       "      <th>2</th>\n",
       "      <td>Africa</td>\n",
       "      <td>Asia</td>\n",
       "      <td>42.854035</td>\n",
       "      <td>4.748772</td>\n",
       "      <td>34.240702</td>\n",
       "      <td>17.060351</td>\n",
       "      <td>9.043509</td>\n",
       "      <td>20.268772</td>\n",
       "    </tr>\n",
       "    <tr>\n",
       "      <th>3</th>\n",
       "      <td>Africa</td>\n",
       "      <td>Europe</td>\n",
       "      <td>53.072052</td>\n",
       "      <td>31.703057</td>\n",
       "      <td>53.061135</td>\n",
       "      <td>23.685590</td>\n",
       "      <td>25.021834</td>\n",
       "      <td>22.174672</td>\n",
       "    </tr>\n",
       "    <tr>\n",
       "      <th>4</th>\n",
       "      <td>Africa</td>\n",
       "      <td>Oceania</td>\n",
       "      <td>73.208696</td>\n",
       "      <td>0.000000</td>\n",
       "      <td>98.708696</td>\n",
       "      <td>0.000000</td>\n",
       "      <td>0.000000</td>\n",
       "      <td>62.121739</td>\n",
       "    </tr>\n",
       "    <tr>\n",
       "      <th>5</th>\n",
       "      <td>Americas</td>\n",
       "      <td>Africa</td>\n",
       "      <td>67.788732</td>\n",
       "      <td>13.592830</td>\n",
       "      <td>66.411012</td>\n",
       "      <td>16.216389</td>\n",
       "      <td>9.838668</td>\n",
       "      <td>19.213828</td>\n",
       "    </tr>\n",
       "    <tr>\n",
       "      <th>6</th>\n",
       "      <td>Americas</td>\n",
       "      <td>Americas</td>\n",
       "      <td>34.307301</td>\n",
       "      <td>69.113752</td>\n",
       "      <td>107.696095</td>\n",
       "      <td>133.694397</td>\n",
       "      <td>49.561969</td>\n",
       "      <td>1.103565</td>\n",
       "    </tr>\n",
       "    <tr>\n",
       "      <th>7</th>\n",
       "      <td>Americas</td>\n",
       "      <td>Asia</td>\n",
       "      <td>40.074592</td>\n",
       "      <td>4.998834</td>\n",
       "      <td>33.522145</td>\n",
       "      <td>18.269231</td>\n",
       "      <td>9.653846</td>\n",
       "      <td>18.465035</td>\n",
       "    </tr>\n",
       "    <tr>\n",
       "      <th>8</th>\n",
       "      <td>Americas</td>\n",
       "      <td>Europe</td>\n",
       "      <td>27.965217</td>\n",
       "      <td>42.952174</td>\n",
       "      <td>27.595652</td>\n",
       "      <td>33.573913</td>\n",
       "      <td>38.586957</td>\n",
       "      <td>14.478261</td>\n",
       "    </tr>\n",
       "    <tr>\n",
       "      <th>9</th>\n",
       "      <td>Americas</td>\n",
       "      <td>Oceania</td>\n",
       "      <td>74.267717</td>\n",
       "      <td>0.000000</td>\n",
       "      <td>107.023622</td>\n",
       "      <td>0.000000</td>\n",
       "      <td>0.000000</td>\n",
       "      <td>61.669291</td>\n",
       "    </tr>\n",
       "    <tr>\n",
       "      <th>10</th>\n",
       "      <td>Asia</td>\n",
       "      <td>Africa</td>\n",
       "      <td>69.782118</td>\n",
       "      <td>16.767361</td>\n",
       "      <td>69.832465</td>\n",
       "      <td>18.507812</td>\n",
       "      <td>9.729167</td>\n",
       "      <td>21.112847</td>\n",
       "    </tr>\n",
       "    <tr>\n",
       "      <th>11</th>\n",
       "      <td>Asia</td>\n",
       "      <td>Americas</td>\n",
       "      <td>59.866729</td>\n",
       "      <td>60.161230</td>\n",
       "      <td>96.227400</td>\n",
       "      <td>106.701771</td>\n",
       "      <td>32.037279</td>\n",
       "      <td>1.397950</td>\n",
       "    </tr>\n",
       "    <tr>\n",
       "      <th>12</th>\n",
       "      <td>Asia</td>\n",
       "      <td>Asia</td>\n",
       "      <td>40.216193</td>\n",
       "      <td>5.274763</td>\n",
       "      <td>32.475452</td>\n",
       "      <td>18.772610</td>\n",
       "      <td>9.863049</td>\n",
       "      <td>19.102498</td>\n",
       "    </tr>\n",
       "    <tr>\n",
       "      <th>13</th>\n",
       "      <td>Asia</td>\n",
       "      <td>Europe</td>\n",
       "      <td>48.175853</td>\n",
       "      <td>38.128609</td>\n",
       "      <td>48.624672</td>\n",
       "      <td>29.065617</td>\n",
       "      <td>30.498688</td>\n",
       "      <td>20.120735</td>\n",
       "    </tr>\n",
       "    <tr>\n",
       "      <th>14</th>\n",
       "      <td>Asia</td>\n",
       "      <td>Oceania</td>\n",
       "      <td>75.804878</td>\n",
       "      <td>0.000000</td>\n",
       "      <td>105.024390</td>\n",
       "      <td>0.000000</td>\n",
       "      <td>0.000000</td>\n",
       "      <td>64.341463</td>\n",
       "    </tr>\n",
       "    <tr>\n",
       "      <th>15</th>\n",
       "      <td>Europe</td>\n",
       "      <td>Africa</td>\n",
       "      <td>64.444072</td>\n",
       "      <td>16.870246</td>\n",
       "      <td>63.781879</td>\n",
       "      <td>21.760626</td>\n",
       "      <td>10.762864</td>\n",
       "      <td>22.835570</td>\n",
       "    </tr>\n",
       "    <tr>\n",
       "      <th>16</th>\n",
       "      <td>Europe</td>\n",
       "      <td>Americas</td>\n",
       "      <td>25.440336</td>\n",
       "      <td>71.616807</td>\n",
       "      <td>95.862185</td>\n",
       "      <td>138.117647</td>\n",
       "      <td>43.571429</td>\n",
       "      <td>0.168067</td>\n",
       "    </tr>\n",
       "    <tr>\n",
       "      <th>17</th>\n",
       "      <td>Europe</td>\n",
       "      <td>Asia</td>\n",
       "      <td>40.239620</td>\n",
       "      <td>6.007117</td>\n",
       "      <td>32.820878</td>\n",
       "      <td>21.666667</td>\n",
       "      <td>11.569395</td>\n",
       "      <td>21.131673</td>\n",
       "    </tr>\n",
       "    <tr>\n",
       "      <th>18</th>\n",
       "      <td>Europe</td>\n",
       "      <td>Europe</td>\n",
       "      <td>20.407407</td>\n",
       "      <td>52.444444</td>\n",
       "      <td>20.407407</td>\n",
       "      <td>49.722222</td>\n",
       "      <td>61.027778</td>\n",
       "      <td>5.148148</td>\n",
       "    </tr>\n",
       "    <tr>\n",
       "      <th>19</th>\n",
       "      <td>Europe</td>\n",
       "      <td>Oceania</td>\n",
       "      <td>73.457143</td>\n",
       "      <td>0.000000</td>\n",
       "      <td>105.457143</td>\n",
       "      <td>0.000000</td>\n",
       "      <td>0.000000</td>\n",
       "      <td>62.028571</td>\n",
       "    </tr>\n",
       "    <tr>\n",
       "      <th>20</th>\n",
       "      <td>Oceania</td>\n",
       "      <td>Africa</td>\n",
       "      <td>60.467320</td>\n",
       "      <td>13.774510</td>\n",
       "      <td>61.836601</td>\n",
       "      <td>19.934641</td>\n",
       "      <td>11.879085</td>\n",
       "      <td>20.022876</td>\n",
       "    </tr>\n",
       "    <tr>\n",
       "      <th>21</th>\n",
       "      <td>Oceania</td>\n",
       "      <td>Americas</td>\n",
       "      <td>44.309701</td>\n",
       "      <td>52.847015</td>\n",
       "      <td>89.123134</td>\n",
       "      <td>120.802239</td>\n",
       "      <td>32.548507</td>\n",
       "      <td>0.000000</td>\n",
       "    </tr>\n",
       "    <tr>\n",
       "      <th>22</th>\n",
       "      <td>Oceania</td>\n",
       "      <td>Asia</td>\n",
       "      <td>40.171465</td>\n",
       "      <td>4.539846</td>\n",
       "      <td>33.171465</td>\n",
       "      <td>17.095116</td>\n",
       "      <td>8.858612</td>\n",
       "      <td>20.307198</td>\n",
       "    </tr>\n",
       "    <tr>\n",
       "      <th>23</th>\n",
       "      <td>Oceania</td>\n",
       "      <td>Europe</td>\n",
       "      <td>22.869565</td>\n",
       "      <td>46.978261</td>\n",
       "      <td>22.869565</td>\n",
       "      <td>48.413043</td>\n",
       "      <td>50.239130</td>\n",
       "      <td>16.880435</td>\n",
       "    </tr>\n",
       "    <tr>\n",
       "      <th>24</th>\n",
       "      <td>Oceania</td>\n",
       "      <td>Oceania</td>\n",
       "      <td>81.034483</td>\n",
       "      <td>0.000000</td>\n",
       "      <td>137.931034</td>\n",
       "      <td>0.000000</td>\n",
       "      <td>0.000000</td>\n",
       "      <td>62.068966</td>\n",
       "    </tr>\n",
       "  </tbody>\n",
       "</table>\n",
       "</div>"
      ],
      "text/plain": [
       "   source_region target_region  tourist_visa  student_visa  business_visa  \\\n",
       "0         Africa        Africa     65.762357     14.797529      63.549430   \n",
       "1         Africa      Americas     67.407906     55.547519      94.349874   \n",
       "2         Africa          Asia     42.854035      4.748772      34.240702   \n",
       "3         Africa        Europe     53.072052     31.703057      53.061135   \n",
       "4         Africa       Oceania     73.208696      0.000000      98.708696   \n",
       "5       Americas        Africa     67.788732     13.592830      66.411012   \n",
       "6       Americas      Americas     34.307301     69.113752     107.696095   \n",
       "7       Americas          Asia     40.074592      4.998834      33.522145   \n",
       "8       Americas        Europe     27.965217     42.952174      27.595652   \n",
       "9       Americas       Oceania     74.267717      0.000000     107.023622   \n",
       "10          Asia        Africa     69.782118     16.767361      69.832465   \n",
       "11          Asia      Americas     59.866729     60.161230      96.227400   \n",
       "12          Asia          Asia     40.216193      5.274763      32.475452   \n",
       "13          Asia        Europe     48.175853     38.128609      48.624672   \n",
       "14          Asia       Oceania     75.804878      0.000000     105.024390   \n",
       "15        Europe        Africa     64.444072     16.870246      63.781879   \n",
       "16        Europe      Americas     25.440336     71.616807      95.862185   \n",
       "17        Europe          Asia     40.239620      6.007117      32.820878   \n",
       "18        Europe        Europe     20.407407     52.444444      20.407407   \n",
       "19        Europe       Oceania     73.457143      0.000000     105.457143   \n",
       "20       Oceania        Africa     60.467320     13.774510      61.836601   \n",
       "21       Oceania      Americas     44.309701     52.847015      89.123134   \n",
       "22       Oceania          Asia     40.171465      4.539846      33.171465   \n",
       "23       Oceania        Europe     22.869565     46.978261      22.869565   \n",
       "24       Oceania       Oceania     81.034483      0.000000     137.931034   \n",
       "\n",
       "     work_visa  family_reunification_visa  transit_visa  \n",
       "0    13.488593                  10.475285     21.437262  \n",
       "1    99.446594                  26.038688      1.640034  \n",
       "2    17.060351                   9.043509     20.268772  \n",
       "3    23.685590                  25.021834     22.174672  \n",
       "4     0.000000                   0.000000     62.121739  \n",
       "5    16.216389                   9.838668     19.213828  \n",
       "6   133.694397                  49.561969      1.103565  \n",
       "7    18.269231                   9.653846     18.465035  \n",
       "8    33.573913                  38.586957     14.478261  \n",
       "9     0.000000                   0.000000     61.669291  \n",
       "10   18.507812                   9.729167     21.112847  \n",
       "11  106.701771                  32.037279      1.397950  \n",
       "12   18.772610                   9.863049     19.102498  \n",
       "13   29.065617                  30.498688     20.120735  \n",
       "14    0.000000                   0.000000     64.341463  \n",
       "15   21.760626                  10.762864     22.835570  \n",
       "16  138.117647                  43.571429      0.168067  \n",
       "17   21.666667                  11.569395     21.131673  \n",
       "18   49.722222                  61.027778      5.148148  \n",
       "19    0.000000                   0.000000     62.028571  \n",
       "20   19.934641                  11.879085     20.022876  \n",
       "21  120.802239                  32.548507      0.000000  \n",
       "22   17.095116                   8.858612     20.307198  \n",
       "23   48.413043                  50.239130     16.880435  \n",
       "24    0.000000                   0.000000     62.068966  "
      ]
     },
     "execution_count": 66,
     "metadata": {},
     "output_type": "execute_result"
    }
   ],
   "source": [
    "visa_costs_regions = visa_costs.groupby(['source_region','target_region'])[['tourist_visa','student_visa','business_visa','work_visa','family_reunification_visa','transit_visa']].mean().reset_index()\n",
    "visa_costs_regions"
   ]
  },
  {
   "cell_type": "code",
   "execution_count": 67,
   "metadata": {},
   "outputs": [
    {
     "data": {
      "text/html": [
       "<div>\n",
       "<style scoped>\n",
       "    .dataframe tbody tr th:only-of-type {\n",
       "        vertical-align: middle;\n",
       "    }\n",
       "\n",
       "    .dataframe tbody tr th {\n",
       "        vertical-align: top;\n",
       "    }\n",
       "\n",
       "    .dataframe thead th {\n",
       "        text-align: right;\n",
       "    }\n",
       "</style>\n",
       "<table border=\"1\" class=\"dataframe\">\n",
       "  <thead>\n",
       "    <tr style=\"text-align: right;\">\n",
       "      <th></th>\n",
       "      <th>region</th>\n",
       "      <th>latitude</th>\n",
       "      <th>longitude</th>\n",
       "    </tr>\n",
       "  </thead>\n",
       "  <tbody>\n",
       "    <tr>\n",
       "      <th>0</th>\n",
       "      <td>Asia</td>\n",
       "      <td>34.0479</td>\n",
       "      <td>100.6179</td>\n",
       "    </tr>\n",
       "    <tr>\n",
       "      <th>1</th>\n",
       "      <td>Europe</td>\n",
       "      <td>54.5260</td>\n",
       "      <td>15.2551</td>\n",
       "    </tr>\n",
       "    <tr>\n",
       "      <th>2</th>\n",
       "      <td>Africa</td>\n",
       "      <td>-8.7832</td>\n",
       "      <td>34.5085</td>\n",
       "    </tr>\n",
       "    <tr>\n",
       "      <th>3</th>\n",
       "      <td>Americas</td>\n",
       "      <td>54.5260</td>\n",
       "      <td>-105.2551</td>\n",
       "    </tr>\n",
       "    <tr>\n",
       "      <th>4</th>\n",
       "      <td>Oceania</td>\n",
       "      <td>-22.7359</td>\n",
       "      <td>140.0188</td>\n",
       "    </tr>\n",
       "  </tbody>\n",
       "</table>\n",
       "</div>"
      ],
      "text/plain": [
       "     region  latitude  longitude\n",
       "0      Asia   34.0479   100.6179\n",
       "1    Europe   54.5260    15.2551\n",
       "2    Africa   -8.7832    34.5085\n",
       "3  Americas   54.5260  -105.2551\n",
       "4   Oceania  -22.7359   140.0188"
      ]
     },
     "execution_count": 67,
     "metadata": {},
     "output_type": "execute_result"
    }
   ],
   "source": [
    "regions_latlon = pd.DataFrame([['Asia', 34.0479, 100.6179], \n",
    "                               ['Europe', 54.5260, 15.2551], \n",
    "                               ['Africa', -8.7832, 34.5085], \n",
    "                               ['Americas', 54.5260, -105.2551], \n",
    "                               ['Oceania', -22.7359, 140.0188]], columns=['region', 'latitude', 'longitude'])\n",
    "regions_latlon"
   ]
  },
  {
   "cell_type": "code",
   "execution_count": 69,
   "metadata": {
    "scrolled": true
   },
   "outputs": [
    {
     "data": {
      "text/html": [
       "<div>\n",
       "<style scoped>\n",
       "    .dataframe tbody tr th:only-of-type {\n",
       "        vertical-align: middle;\n",
       "    }\n",
       "\n",
       "    .dataframe tbody tr th {\n",
       "        vertical-align: top;\n",
       "    }\n",
       "\n",
       "    .dataframe thead th {\n",
       "        text-align: right;\n",
       "    }\n",
       "</style>\n",
       "<table border=\"1\" class=\"dataframe\">\n",
       "  <thead>\n",
       "    <tr style=\"text-align: right;\">\n",
       "      <th></th>\n",
       "      <th>source_region</th>\n",
       "      <th>target_region</th>\n",
       "      <th>tourist_visa</th>\n",
       "      <th>student_visa</th>\n",
       "      <th>business_visa</th>\n",
       "      <th>work_visa</th>\n",
       "      <th>family_reunification_visa</th>\n",
       "      <th>transit_visa</th>\n",
       "      <th>source_lat</th>\n",
       "      <th>source_lon</th>\n",
       "    </tr>\n",
       "  </thead>\n",
       "  <tbody>\n",
       "    <tr>\n",
       "      <th>0</th>\n",
       "      <td>Africa</td>\n",
       "      <td>Africa</td>\n",
       "      <td>65.762357</td>\n",
       "      <td>14.797529</td>\n",
       "      <td>63.549430</td>\n",
       "      <td>13.488593</td>\n",
       "      <td>10.475285</td>\n",
       "      <td>21.437262</td>\n",
       "      <td>-8.7832</td>\n",
       "      <td>34.5085</td>\n",
       "    </tr>\n",
       "    <tr>\n",
       "      <th>1</th>\n",
       "      <td>Africa</td>\n",
       "      <td>Americas</td>\n",
       "      <td>67.407906</td>\n",
       "      <td>55.547519</td>\n",
       "      <td>94.349874</td>\n",
       "      <td>99.446594</td>\n",
       "      <td>26.038688</td>\n",
       "      <td>1.640034</td>\n",
       "      <td>-8.7832</td>\n",
       "      <td>34.5085</td>\n",
       "    </tr>\n",
       "    <tr>\n",
       "      <th>2</th>\n",
       "      <td>Africa</td>\n",
       "      <td>Asia</td>\n",
       "      <td>42.854035</td>\n",
       "      <td>4.748772</td>\n",
       "      <td>34.240702</td>\n",
       "      <td>17.060351</td>\n",
       "      <td>9.043509</td>\n",
       "      <td>20.268772</td>\n",
       "      <td>-8.7832</td>\n",
       "      <td>34.5085</td>\n",
       "    </tr>\n",
       "    <tr>\n",
       "      <th>3</th>\n",
       "      <td>Africa</td>\n",
       "      <td>Europe</td>\n",
       "      <td>53.072052</td>\n",
       "      <td>31.703057</td>\n",
       "      <td>53.061135</td>\n",
       "      <td>23.685590</td>\n",
       "      <td>25.021834</td>\n",
       "      <td>22.174672</td>\n",
       "      <td>-8.7832</td>\n",
       "      <td>34.5085</td>\n",
       "    </tr>\n",
       "    <tr>\n",
       "      <th>4</th>\n",
       "      <td>Africa</td>\n",
       "      <td>Oceania</td>\n",
       "      <td>73.208696</td>\n",
       "      <td>0.000000</td>\n",
       "      <td>98.708696</td>\n",
       "      <td>0.000000</td>\n",
       "      <td>0.000000</td>\n",
       "      <td>62.121739</td>\n",
       "      <td>-8.7832</td>\n",
       "      <td>34.5085</td>\n",
       "    </tr>\n",
       "    <tr>\n",
       "      <th>5</th>\n",
       "      <td>Americas</td>\n",
       "      <td>Africa</td>\n",
       "      <td>67.788732</td>\n",
       "      <td>13.592830</td>\n",
       "      <td>66.411012</td>\n",
       "      <td>16.216389</td>\n",
       "      <td>9.838668</td>\n",
       "      <td>19.213828</td>\n",
       "      <td>54.5260</td>\n",
       "      <td>-105.2551</td>\n",
       "    </tr>\n",
       "    <tr>\n",
       "      <th>6</th>\n",
       "      <td>Americas</td>\n",
       "      <td>Americas</td>\n",
       "      <td>34.307301</td>\n",
       "      <td>69.113752</td>\n",
       "      <td>107.696095</td>\n",
       "      <td>133.694397</td>\n",
       "      <td>49.561969</td>\n",
       "      <td>1.103565</td>\n",
       "      <td>54.5260</td>\n",
       "      <td>-105.2551</td>\n",
       "    </tr>\n",
       "    <tr>\n",
       "      <th>7</th>\n",
       "      <td>Americas</td>\n",
       "      <td>Asia</td>\n",
       "      <td>40.074592</td>\n",
       "      <td>4.998834</td>\n",
       "      <td>33.522145</td>\n",
       "      <td>18.269231</td>\n",
       "      <td>9.653846</td>\n",
       "      <td>18.465035</td>\n",
       "      <td>54.5260</td>\n",
       "      <td>-105.2551</td>\n",
       "    </tr>\n",
       "    <tr>\n",
       "      <th>8</th>\n",
       "      <td>Americas</td>\n",
       "      <td>Europe</td>\n",
       "      <td>27.965217</td>\n",
       "      <td>42.952174</td>\n",
       "      <td>27.595652</td>\n",
       "      <td>33.573913</td>\n",
       "      <td>38.586957</td>\n",
       "      <td>14.478261</td>\n",
       "      <td>54.5260</td>\n",
       "      <td>-105.2551</td>\n",
       "    </tr>\n",
       "    <tr>\n",
       "      <th>9</th>\n",
       "      <td>Americas</td>\n",
       "      <td>Oceania</td>\n",
       "      <td>74.267717</td>\n",
       "      <td>0.000000</td>\n",
       "      <td>107.023622</td>\n",
       "      <td>0.000000</td>\n",
       "      <td>0.000000</td>\n",
       "      <td>61.669291</td>\n",
       "      <td>54.5260</td>\n",
       "      <td>-105.2551</td>\n",
       "    </tr>\n",
       "    <tr>\n",
       "      <th>10</th>\n",
       "      <td>Asia</td>\n",
       "      <td>Africa</td>\n",
       "      <td>69.782118</td>\n",
       "      <td>16.767361</td>\n",
       "      <td>69.832465</td>\n",
       "      <td>18.507812</td>\n",
       "      <td>9.729167</td>\n",
       "      <td>21.112847</td>\n",
       "      <td>34.0479</td>\n",
       "      <td>100.6179</td>\n",
       "    </tr>\n",
       "    <tr>\n",
       "      <th>11</th>\n",
       "      <td>Asia</td>\n",
       "      <td>Americas</td>\n",
       "      <td>59.866729</td>\n",
       "      <td>60.161230</td>\n",
       "      <td>96.227400</td>\n",
       "      <td>106.701771</td>\n",
       "      <td>32.037279</td>\n",
       "      <td>1.397950</td>\n",
       "      <td>34.0479</td>\n",
       "      <td>100.6179</td>\n",
       "    </tr>\n",
       "    <tr>\n",
       "      <th>12</th>\n",
       "      <td>Asia</td>\n",
       "      <td>Asia</td>\n",
       "      <td>40.216193</td>\n",
       "      <td>5.274763</td>\n",
       "      <td>32.475452</td>\n",
       "      <td>18.772610</td>\n",
       "      <td>9.863049</td>\n",
       "      <td>19.102498</td>\n",
       "      <td>34.0479</td>\n",
       "      <td>100.6179</td>\n",
       "    </tr>\n",
       "    <tr>\n",
       "      <th>13</th>\n",
       "      <td>Asia</td>\n",
       "      <td>Europe</td>\n",
       "      <td>48.175853</td>\n",
       "      <td>38.128609</td>\n",
       "      <td>48.624672</td>\n",
       "      <td>29.065617</td>\n",
       "      <td>30.498688</td>\n",
       "      <td>20.120735</td>\n",
       "      <td>34.0479</td>\n",
       "      <td>100.6179</td>\n",
       "    </tr>\n",
       "    <tr>\n",
       "      <th>14</th>\n",
       "      <td>Asia</td>\n",
       "      <td>Oceania</td>\n",
       "      <td>75.804878</td>\n",
       "      <td>0.000000</td>\n",
       "      <td>105.024390</td>\n",
       "      <td>0.000000</td>\n",
       "      <td>0.000000</td>\n",
       "      <td>64.341463</td>\n",
       "      <td>34.0479</td>\n",
       "      <td>100.6179</td>\n",
       "    </tr>\n",
       "    <tr>\n",
       "      <th>15</th>\n",
       "      <td>Europe</td>\n",
       "      <td>Africa</td>\n",
       "      <td>64.444072</td>\n",
       "      <td>16.870246</td>\n",
       "      <td>63.781879</td>\n",
       "      <td>21.760626</td>\n",
       "      <td>10.762864</td>\n",
       "      <td>22.835570</td>\n",
       "      <td>54.5260</td>\n",
       "      <td>15.2551</td>\n",
       "    </tr>\n",
       "    <tr>\n",
       "      <th>16</th>\n",
       "      <td>Europe</td>\n",
       "      <td>Americas</td>\n",
       "      <td>25.440336</td>\n",
       "      <td>71.616807</td>\n",
       "      <td>95.862185</td>\n",
       "      <td>138.117647</td>\n",
       "      <td>43.571429</td>\n",
       "      <td>0.168067</td>\n",
       "      <td>54.5260</td>\n",
       "      <td>15.2551</td>\n",
       "    </tr>\n",
       "    <tr>\n",
       "      <th>17</th>\n",
       "      <td>Europe</td>\n",
       "      <td>Asia</td>\n",
       "      <td>40.239620</td>\n",
       "      <td>6.007117</td>\n",
       "      <td>32.820878</td>\n",
       "      <td>21.666667</td>\n",
       "      <td>11.569395</td>\n",
       "      <td>21.131673</td>\n",
       "      <td>54.5260</td>\n",
       "      <td>15.2551</td>\n",
       "    </tr>\n",
       "    <tr>\n",
       "      <th>18</th>\n",
       "      <td>Europe</td>\n",
       "      <td>Europe</td>\n",
       "      <td>20.407407</td>\n",
       "      <td>52.444444</td>\n",
       "      <td>20.407407</td>\n",
       "      <td>49.722222</td>\n",
       "      <td>61.027778</td>\n",
       "      <td>5.148148</td>\n",
       "      <td>54.5260</td>\n",
       "      <td>15.2551</td>\n",
       "    </tr>\n",
       "    <tr>\n",
       "      <th>19</th>\n",
       "      <td>Europe</td>\n",
       "      <td>Oceania</td>\n",
       "      <td>73.457143</td>\n",
       "      <td>0.000000</td>\n",
       "      <td>105.457143</td>\n",
       "      <td>0.000000</td>\n",
       "      <td>0.000000</td>\n",
       "      <td>62.028571</td>\n",
       "      <td>54.5260</td>\n",
       "      <td>15.2551</td>\n",
       "    </tr>\n",
       "    <tr>\n",
       "      <th>20</th>\n",
       "      <td>Oceania</td>\n",
       "      <td>Africa</td>\n",
       "      <td>60.467320</td>\n",
       "      <td>13.774510</td>\n",
       "      <td>61.836601</td>\n",
       "      <td>19.934641</td>\n",
       "      <td>11.879085</td>\n",
       "      <td>20.022876</td>\n",
       "      <td>-22.7359</td>\n",
       "      <td>140.0188</td>\n",
       "    </tr>\n",
       "    <tr>\n",
       "      <th>21</th>\n",
       "      <td>Oceania</td>\n",
       "      <td>Americas</td>\n",
       "      <td>44.309701</td>\n",
       "      <td>52.847015</td>\n",
       "      <td>89.123134</td>\n",
       "      <td>120.802239</td>\n",
       "      <td>32.548507</td>\n",
       "      <td>0.000000</td>\n",
       "      <td>-22.7359</td>\n",
       "      <td>140.0188</td>\n",
       "    </tr>\n",
       "    <tr>\n",
       "      <th>22</th>\n",
       "      <td>Oceania</td>\n",
       "      <td>Asia</td>\n",
       "      <td>40.171465</td>\n",
       "      <td>4.539846</td>\n",
       "      <td>33.171465</td>\n",
       "      <td>17.095116</td>\n",
       "      <td>8.858612</td>\n",
       "      <td>20.307198</td>\n",
       "      <td>-22.7359</td>\n",
       "      <td>140.0188</td>\n",
       "    </tr>\n",
       "    <tr>\n",
       "      <th>23</th>\n",
       "      <td>Oceania</td>\n",
       "      <td>Europe</td>\n",
       "      <td>22.869565</td>\n",
       "      <td>46.978261</td>\n",
       "      <td>22.869565</td>\n",
       "      <td>48.413043</td>\n",
       "      <td>50.239130</td>\n",
       "      <td>16.880435</td>\n",
       "      <td>-22.7359</td>\n",
       "      <td>140.0188</td>\n",
       "    </tr>\n",
       "    <tr>\n",
       "      <th>24</th>\n",
       "      <td>Oceania</td>\n",
       "      <td>Oceania</td>\n",
       "      <td>81.034483</td>\n",
       "      <td>0.000000</td>\n",
       "      <td>137.931034</td>\n",
       "      <td>0.000000</td>\n",
       "      <td>0.000000</td>\n",
       "      <td>62.068966</td>\n",
       "      <td>-22.7359</td>\n",
       "      <td>140.0188</td>\n",
       "    </tr>\n",
       "  </tbody>\n",
       "</table>\n",
       "</div>"
      ],
      "text/plain": [
       "   source_region target_region  tourist_visa  student_visa  business_visa  \\\n",
       "0         Africa        Africa     65.762357     14.797529      63.549430   \n",
       "1         Africa      Americas     67.407906     55.547519      94.349874   \n",
       "2         Africa          Asia     42.854035      4.748772      34.240702   \n",
       "3         Africa        Europe     53.072052     31.703057      53.061135   \n",
       "4         Africa       Oceania     73.208696      0.000000      98.708696   \n",
       "5       Americas        Africa     67.788732     13.592830      66.411012   \n",
       "6       Americas      Americas     34.307301     69.113752     107.696095   \n",
       "7       Americas          Asia     40.074592      4.998834      33.522145   \n",
       "8       Americas        Europe     27.965217     42.952174      27.595652   \n",
       "9       Americas       Oceania     74.267717      0.000000     107.023622   \n",
       "10          Asia        Africa     69.782118     16.767361      69.832465   \n",
       "11          Asia      Americas     59.866729     60.161230      96.227400   \n",
       "12          Asia          Asia     40.216193      5.274763      32.475452   \n",
       "13          Asia        Europe     48.175853     38.128609      48.624672   \n",
       "14          Asia       Oceania     75.804878      0.000000     105.024390   \n",
       "15        Europe        Africa     64.444072     16.870246      63.781879   \n",
       "16        Europe      Americas     25.440336     71.616807      95.862185   \n",
       "17        Europe          Asia     40.239620      6.007117      32.820878   \n",
       "18        Europe        Europe     20.407407     52.444444      20.407407   \n",
       "19        Europe       Oceania     73.457143      0.000000     105.457143   \n",
       "20       Oceania        Africa     60.467320     13.774510      61.836601   \n",
       "21       Oceania      Americas     44.309701     52.847015      89.123134   \n",
       "22       Oceania          Asia     40.171465      4.539846      33.171465   \n",
       "23       Oceania        Europe     22.869565     46.978261      22.869565   \n",
       "24       Oceania       Oceania     81.034483      0.000000     137.931034   \n",
       "\n",
       "     work_visa  family_reunification_visa  transit_visa  source_lat  \\\n",
       "0    13.488593                  10.475285     21.437262     -8.7832   \n",
       "1    99.446594                  26.038688      1.640034     -8.7832   \n",
       "2    17.060351                   9.043509     20.268772     -8.7832   \n",
       "3    23.685590                  25.021834     22.174672     -8.7832   \n",
       "4     0.000000                   0.000000     62.121739     -8.7832   \n",
       "5    16.216389                   9.838668     19.213828     54.5260   \n",
       "6   133.694397                  49.561969      1.103565     54.5260   \n",
       "7    18.269231                   9.653846     18.465035     54.5260   \n",
       "8    33.573913                  38.586957     14.478261     54.5260   \n",
       "9     0.000000                   0.000000     61.669291     54.5260   \n",
       "10   18.507812                   9.729167     21.112847     34.0479   \n",
       "11  106.701771                  32.037279      1.397950     34.0479   \n",
       "12   18.772610                   9.863049     19.102498     34.0479   \n",
       "13   29.065617                  30.498688     20.120735     34.0479   \n",
       "14    0.000000                   0.000000     64.341463     34.0479   \n",
       "15   21.760626                  10.762864     22.835570     54.5260   \n",
       "16  138.117647                  43.571429      0.168067     54.5260   \n",
       "17   21.666667                  11.569395     21.131673     54.5260   \n",
       "18   49.722222                  61.027778      5.148148     54.5260   \n",
       "19    0.000000                   0.000000     62.028571     54.5260   \n",
       "20   19.934641                  11.879085     20.022876    -22.7359   \n",
       "21  120.802239                  32.548507      0.000000    -22.7359   \n",
       "22   17.095116                   8.858612     20.307198    -22.7359   \n",
       "23   48.413043                  50.239130     16.880435    -22.7359   \n",
       "24    0.000000                   0.000000     62.068966    -22.7359   \n",
       "\n",
       "    source_lon  \n",
       "0      34.5085  \n",
       "1      34.5085  \n",
       "2      34.5085  \n",
       "3      34.5085  \n",
       "4      34.5085  \n",
       "5    -105.2551  \n",
       "6    -105.2551  \n",
       "7    -105.2551  \n",
       "8    -105.2551  \n",
       "9    -105.2551  \n",
       "10    100.6179  \n",
       "11    100.6179  \n",
       "12    100.6179  \n",
       "13    100.6179  \n",
       "14    100.6179  \n",
       "15     15.2551  \n",
       "16     15.2551  \n",
       "17     15.2551  \n",
       "18     15.2551  \n",
       "19     15.2551  \n",
       "20    140.0188  \n",
       "21    140.0188  \n",
       "22    140.0188  \n",
       "23    140.0188  \n",
       "24    140.0188  "
      ]
     },
     "execution_count": 69,
     "metadata": {},
     "output_type": "execute_result"
    }
   ],
   "source": [
    "regions_latlon.rename(columns={'region':'source_region'},inplace=True)\n",
    "visa_costs_regions = visa_costs_regions.merge(regions_latlon, how='left', on='source_region')\n",
    "visa_costs_regions.rename(columns={'latitude':'source_lat', 'longitude':'source_lon'},inplace=True)\n",
    "visa_costs_regions"
   ]
  },
  {
   "cell_type": "code",
   "execution_count": 70,
   "metadata": {
    "scrolled": true
   },
   "outputs": [
    {
     "data": {
      "text/html": [
       "<div>\n",
       "<style scoped>\n",
       "    .dataframe tbody tr th:only-of-type {\n",
       "        vertical-align: middle;\n",
       "    }\n",
       "\n",
       "    .dataframe tbody tr th {\n",
       "        vertical-align: top;\n",
       "    }\n",
       "\n",
       "    .dataframe thead th {\n",
       "        text-align: right;\n",
       "    }\n",
       "</style>\n",
       "<table border=\"1\" class=\"dataframe\">\n",
       "  <thead>\n",
       "    <tr style=\"text-align: right;\">\n",
       "      <th></th>\n",
       "      <th>source_region</th>\n",
       "      <th>target_region</th>\n",
       "      <th>tourist_visa</th>\n",
       "      <th>student_visa</th>\n",
       "      <th>business_visa</th>\n",
       "      <th>work_visa</th>\n",
       "      <th>family_reunification_visa</th>\n",
       "      <th>transit_visa</th>\n",
       "      <th>source_lat</th>\n",
       "      <th>source_lon</th>\n",
       "      <th>target_lat</th>\n",
       "      <th>target_lon</th>\n",
       "    </tr>\n",
       "  </thead>\n",
       "  <tbody>\n",
       "    <tr>\n",
       "      <th>0</th>\n",
       "      <td>Africa</td>\n",
       "      <td>Africa</td>\n",
       "      <td>65.762357</td>\n",
       "      <td>14.797529</td>\n",
       "      <td>63.549430</td>\n",
       "      <td>13.488593</td>\n",
       "      <td>10.475285</td>\n",
       "      <td>21.437262</td>\n",
       "      <td>-8.7832</td>\n",
       "      <td>34.5085</td>\n",
       "      <td>-8.7832</td>\n",
       "      <td>34.5085</td>\n",
       "    </tr>\n",
       "    <tr>\n",
       "      <th>1</th>\n",
       "      <td>Africa</td>\n",
       "      <td>Americas</td>\n",
       "      <td>67.407906</td>\n",
       "      <td>55.547519</td>\n",
       "      <td>94.349874</td>\n",
       "      <td>99.446594</td>\n",
       "      <td>26.038688</td>\n",
       "      <td>1.640034</td>\n",
       "      <td>-8.7832</td>\n",
       "      <td>34.5085</td>\n",
       "      <td>54.5260</td>\n",
       "      <td>-105.2551</td>\n",
       "    </tr>\n",
       "    <tr>\n",
       "      <th>2</th>\n",
       "      <td>Africa</td>\n",
       "      <td>Asia</td>\n",
       "      <td>42.854035</td>\n",
       "      <td>4.748772</td>\n",
       "      <td>34.240702</td>\n",
       "      <td>17.060351</td>\n",
       "      <td>9.043509</td>\n",
       "      <td>20.268772</td>\n",
       "      <td>-8.7832</td>\n",
       "      <td>34.5085</td>\n",
       "      <td>34.0479</td>\n",
       "      <td>100.6179</td>\n",
       "    </tr>\n",
       "    <tr>\n",
       "      <th>3</th>\n",
       "      <td>Africa</td>\n",
       "      <td>Europe</td>\n",
       "      <td>53.072052</td>\n",
       "      <td>31.703057</td>\n",
       "      <td>53.061135</td>\n",
       "      <td>23.685590</td>\n",
       "      <td>25.021834</td>\n",
       "      <td>22.174672</td>\n",
       "      <td>-8.7832</td>\n",
       "      <td>34.5085</td>\n",
       "      <td>54.5260</td>\n",
       "      <td>15.2551</td>\n",
       "    </tr>\n",
       "    <tr>\n",
       "      <th>4</th>\n",
       "      <td>Africa</td>\n",
       "      <td>Oceania</td>\n",
       "      <td>73.208696</td>\n",
       "      <td>0.000000</td>\n",
       "      <td>98.708696</td>\n",
       "      <td>0.000000</td>\n",
       "      <td>0.000000</td>\n",
       "      <td>62.121739</td>\n",
       "      <td>-8.7832</td>\n",
       "      <td>34.5085</td>\n",
       "      <td>-22.7359</td>\n",
       "      <td>140.0188</td>\n",
       "    </tr>\n",
       "    <tr>\n",
       "      <th>5</th>\n",
       "      <td>Americas</td>\n",
       "      <td>Africa</td>\n",
       "      <td>67.788732</td>\n",
       "      <td>13.592830</td>\n",
       "      <td>66.411012</td>\n",
       "      <td>16.216389</td>\n",
       "      <td>9.838668</td>\n",
       "      <td>19.213828</td>\n",
       "      <td>54.5260</td>\n",
       "      <td>-105.2551</td>\n",
       "      <td>-8.7832</td>\n",
       "      <td>34.5085</td>\n",
       "    </tr>\n",
       "    <tr>\n",
       "      <th>6</th>\n",
       "      <td>Americas</td>\n",
       "      <td>Americas</td>\n",
       "      <td>34.307301</td>\n",
       "      <td>69.113752</td>\n",
       "      <td>107.696095</td>\n",
       "      <td>133.694397</td>\n",
       "      <td>49.561969</td>\n",
       "      <td>1.103565</td>\n",
       "      <td>54.5260</td>\n",
       "      <td>-105.2551</td>\n",
       "      <td>54.5260</td>\n",
       "      <td>-105.2551</td>\n",
       "    </tr>\n",
       "    <tr>\n",
       "      <th>7</th>\n",
       "      <td>Americas</td>\n",
       "      <td>Asia</td>\n",
       "      <td>40.074592</td>\n",
       "      <td>4.998834</td>\n",
       "      <td>33.522145</td>\n",
       "      <td>18.269231</td>\n",
       "      <td>9.653846</td>\n",
       "      <td>18.465035</td>\n",
       "      <td>54.5260</td>\n",
       "      <td>-105.2551</td>\n",
       "      <td>34.0479</td>\n",
       "      <td>100.6179</td>\n",
       "    </tr>\n",
       "    <tr>\n",
       "      <th>8</th>\n",
       "      <td>Americas</td>\n",
       "      <td>Europe</td>\n",
       "      <td>27.965217</td>\n",
       "      <td>42.952174</td>\n",
       "      <td>27.595652</td>\n",
       "      <td>33.573913</td>\n",
       "      <td>38.586957</td>\n",
       "      <td>14.478261</td>\n",
       "      <td>54.5260</td>\n",
       "      <td>-105.2551</td>\n",
       "      <td>54.5260</td>\n",
       "      <td>15.2551</td>\n",
       "    </tr>\n",
       "    <tr>\n",
       "      <th>9</th>\n",
       "      <td>Americas</td>\n",
       "      <td>Oceania</td>\n",
       "      <td>74.267717</td>\n",
       "      <td>0.000000</td>\n",
       "      <td>107.023622</td>\n",
       "      <td>0.000000</td>\n",
       "      <td>0.000000</td>\n",
       "      <td>61.669291</td>\n",
       "      <td>54.5260</td>\n",
       "      <td>-105.2551</td>\n",
       "      <td>-22.7359</td>\n",
       "      <td>140.0188</td>\n",
       "    </tr>\n",
       "    <tr>\n",
       "      <th>10</th>\n",
       "      <td>Asia</td>\n",
       "      <td>Africa</td>\n",
       "      <td>69.782118</td>\n",
       "      <td>16.767361</td>\n",
       "      <td>69.832465</td>\n",
       "      <td>18.507812</td>\n",
       "      <td>9.729167</td>\n",
       "      <td>21.112847</td>\n",
       "      <td>34.0479</td>\n",
       "      <td>100.6179</td>\n",
       "      <td>-8.7832</td>\n",
       "      <td>34.5085</td>\n",
       "    </tr>\n",
       "    <tr>\n",
       "      <th>11</th>\n",
       "      <td>Asia</td>\n",
       "      <td>Americas</td>\n",
       "      <td>59.866729</td>\n",
       "      <td>60.161230</td>\n",
       "      <td>96.227400</td>\n",
       "      <td>106.701771</td>\n",
       "      <td>32.037279</td>\n",
       "      <td>1.397950</td>\n",
       "      <td>34.0479</td>\n",
       "      <td>100.6179</td>\n",
       "      <td>54.5260</td>\n",
       "      <td>-105.2551</td>\n",
       "    </tr>\n",
       "    <tr>\n",
       "      <th>12</th>\n",
       "      <td>Asia</td>\n",
       "      <td>Asia</td>\n",
       "      <td>40.216193</td>\n",
       "      <td>5.274763</td>\n",
       "      <td>32.475452</td>\n",
       "      <td>18.772610</td>\n",
       "      <td>9.863049</td>\n",
       "      <td>19.102498</td>\n",
       "      <td>34.0479</td>\n",
       "      <td>100.6179</td>\n",
       "      <td>34.0479</td>\n",
       "      <td>100.6179</td>\n",
       "    </tr>\n",
       "    <tr>\n",
       "      <th>13</th>\n",
       "      <td>Asia</td>\n",
       "      <td>Europe</td>\n",
       "      <td>48.175853</td>\n",
       "      <td>38.128609</td>\n",
       "      <td>48.624672</td>\n",
       "      <td>29.065617</td>\n",
       "      <td>30.498688</td>\n",
       "      <td>20.120735</td>\n",
       "      <td>34.0479</td>\n",
       "      <td>100.6179</td>\n",
       "      <td>54.5260</td>\n",
       "      <td>15.2551</td>\n",
       "    </tr>\n",
       "    <tr>\n",
       "      <th>14</th>\n",
       "      <td>Asia</td>\n",
       "      <td>Oceania</td>\n",
       "      <td>75.804878</td>\n",
       "      <td>0.000000</td>\n",
       "      <td>105.024390</td>\n",
       "      <td>0.000000</td>\n",
       "      <td>0.000000</td>\n",
       "      <td>64.341463</td>\n",
       "      <td>34.0479</td>\n",
       "      <td>100.6179</td>\n",
       "      <td>-22.7359</td>\n",
       "      <td>140.0188</td>\n",
       "    </tr>\n",
       "    <tr>\n",
       "      <th>15</th>\n",
       "      <td>Europe</td>\n",
       "      <td>Africa</td>\n",
       "      <td>64.444072</td>\n",
       "      <td>16.870246</td>\n",
       "      <td>63.781879</td>\n",
       "      <td>21.760626</td>\n",
       "      <td>10.762864</td>\n",
       "      <td>22.835570</td>\n",
       "      <td>54.5260</td>\n",
       "      <td>15.2551</td>\n",
       "      <td>-8.7832</td>\n",
       "      <td>34.5085</td>\n",
       "    </tr>\n",
       "    <tr>\n",
       "      <th>16</th>\n",
       "      <td>Europe</td>\n",
       "      <td>Americas</td>\n",
       "      <td>25.440336</td>\n",
       "      <td>71.616807</td>\n",
       "      <td>95.862185</td>\n",
       "      <td>138.117647</td>\n",
       "      <td>43.571429</td>\n",
       "      <td>0.168067</td>\n",
       "      <td>54.5260</td>\n",
       "      <td>15.2551</td>\n",
       "      <td>54.5260</td>\n",
       "      <td>-105.2551</td>\n",
       "    </tr>\n",
       "    <tr>\n",
       "      <th>17</th>\n",
       "      <td>Europe</td>\n",
       "      <td>Asia</td>\n",
       "      <td>40.239620</td>\n",
       "      <td>6.007117</td>\n",
       "      <td>32.820878</td>\n",
       "      <td>21.666667</td>\n",
       "      <td>11.569395</td>\n",
       "      <td>21.131673</td>\n",
       "      <td>54.5260</td>\n",
       "      <td>15.2551</td>\n",
       "      <td>34.0479</td>\n",
       "      <td>100.6179</td>\n",
       "    </tr>\n",
       "    <tr>\n",
       "      <th>18</th>\n",
       "      <td>Europe</td>\n",
       "      <td>Europe</td>\n",
       "      <td>20.407407</td>\n",
       "      <td>52.444444</td>\n",
       "      <td>20.407407</td>\n",
       "      <td>49.722222</td>\n",
       "      <td>61.027778</td>\n",
       "      <td>5.148148</td>\n",
       "      <td>54.5260</td>\n",
       "      <td>15.2551</td>\n",
       "      <td>54.5260</td>\n",
       "      <td>15.2551</td>\n",
       "    </tr>\n",
       "    <tr>\n",
       "      <th>19</th>\n",
       "      <td>Europe</td>\n",
       "      <td>Oceania</td>\n",
       "      <td>73.457143</td>\n",
       "      <td>0.000000</td>\n",
       "      <td>105.457143</td>\n",
       "      <td>0.000000</td>\n",
       "      <td>0.000000</td>\n",
       "      <td>62.028571</td>\n",
       "      <td>54.5260</td>\n",
       "      <td>15.2551</td>\n",
       "      <td>-22.7359</td>\n",
       "      <td>140.0188</td>\n",
       "    </tr>\n",
       "    <tr>\n",
       "      <th>20</th>\n",
       "      <td>Oceania</td>\n",
       "      <td>Africa</td>\n",
       "      <td>60.467320</td>\n",
       "      <td>13.774510</td>\n",
       "      <td>61.836601</td>\n",
       "      <td>19.934641</td>\n",
       "      <td>11.879085</td>\n",
       "      <td>20.022876</td>\n",
       "      <td>-22.7359</td>\n",
       "      <td>140.0188</td>\n",
       "      <td>-8.7832</td>\n",
       "      <td>34.5085</td>\n",
       "    </tr>\n",
       "    <tr>\n",
       "      <th>21</th>\n",
       "      <td>Oceania</td>\n",
       "      <td>Americas</td>\n",
       "      <td>44.309701</td>\n",
       "      <td>52.847015</td>\n",
       "      <td>89.123134</td>\n",
       "      <td>120.802239</td>\n",
       "      <td>32.548507</td>\n",
       "      <td>0.000000</td>\n",
       "      <td>-22.7359</td>\n",
       "      <td>140.0188</td>\n",
       "      <td>54.5260</td>\n",
       "      <td>-105.2551</td>\n",
       "    </tr>\n",
       "    <tr>\n",
       "      <th>22</th>\n",
       "      <td>Oceania</td>\n",
       "      <td>Asia</td>\n",
       "      <td>40.171465</td>\n",
       "      <td>4.539846</td>\n",
       "      <td>33.171465</td>\n",
       "      <td>17.095116</td>\n",
       "      <td>8.858612</td>\n",
       "      <td>20.307198</td>\n",
       "      <td>-22.7359</td>\n",
       "      <td>140.0188</td>\n",
       "      <td>34.0479</td>\n",
       "      <td>100.6179</td>\n",
       "    </tr>\n",
       "    <tr>\n",
       "      <th>23</th>\n",
       "      <td>Oceania</td>\n",
       "      <td>Europe</td>\n",
       "      <td>22.869565</td>\n",
       "      <td>46.978261</td>\n",
       "      <td>22.869565</td>\n",
       "      <td>48.413043</td>\n",
       "      <td>50.239130</td>\n",
       "      <td>16.880435</td>\n",
       "      <td>-22.7359</td>\n",
       "      <td>140.0188</td>\n",
       "      <td>54.5260</td>\n",
       "      <td>15.2551</td>\n",
       "    </tr>\n",
       "    <tr>\n",
       "      <th>24</th>\n",
       "      <td>Oceania</td>\n",
       "      <td>Oceania</td>\n",
       "      <td>81.034483</td>\n",
       "      <td>0.000000</td>\n",
       "      <td>137.931034</td>\n",
       "      <td>0.000000</td>\n",
       "      <td>0.000000</td>\n",
       "      <td>62.068966</td>\n",
       "      <td>-22.7359</td>\n",
       "      <td>140.0188</td>\n",
       "      <td>-22.7359</td>\n",
       "      <td>140.0188</td>\n",
       "    </tr>\n",
       "  </tbody>\n",
       "</table>\n",
       "</div>"
      ],
      "text/plain": [
       "   source_region target_region  tourist_visa  student_visa  business_visa  \\\n",
       "0         Africa        Africa     65.762357     14.797529      63.549430   \n",
       "1         Africa      Americas     67.407906     55.547519      94.349874   \n",
       "2         Africa          Asia     42.854035      4.748772      34.240702   \n",
       "3         Africa        Europe     53.072052     31.703057      53.061135   \n",
       "4         Africa       Oceania     73.208696      0.000000      98.708696   \n",
       "5       Americas        Africa     67.788732     13.592830      66.411012   \n",
       "6       Americas      Americas     34.307301     69.113752     107.696095   \n",
       "7       Americas          Asia     40.074592      4.998834      33.522145   \n",
       "8       Americas        Europe     27.965217     42.952174      27.595652   \n",
       "9       Americas       Oceania     74.267717      0.000000     107.023622   \n",
       "10          Asia        Africa     69.782118     16.767361      69.832465   \n",
       "11          Asia      Americas     59.866729     60.161230      96.227400   \n",
       "12          Asia          Asia     40.216193      5.274763      32.475452   \n",
       "13          Asia        Europe     48.175853     38.128609      48.624672   \n",
       "14          Asia       Oceania     75.804878      0.000000     105.024390   \n",
       "15        Europe        Africa     64.444072     16.870246      63.781879   \n",
       "16        Europe      Americas     25.440336     71.616807      95.862185   \n",
       "17        Europe          Asia     40.239620      6.007117      32.820878   \n",
       "18        Europe        Europe     20.407407     52.444444      20.407407   \n",
       "19        Europe       Oceania     73.457143      0.000000     105.457143   \n",
       "20       Oceania        Africa     60.467320     13.774510      61.836601   \n",
       "21       Oceania      Americas     44.309701     52.847015      89.123134   \n",
       "22       Oceania          Asia     40.171465      4.539846      33.171465   \n",
       "23       Oceania        Europe     22.869565     46.978261      22.869565   \n",
       "24       Oceania       Oceania     81.034483      0.000000     137.931034   \n",
       "\n",
       "     work_visa  family_reunification_visa  transit_visa  source_lat  \\\n",
       "0    13.488593                  10.475285     21.437262     -8.7832   \n",
       "1    99.446594                  26.038688      1.640034     -8.7832   \n",
       "2    17.060351                   9.043509     20.268772     -8.7832   \n",
       "3    23.685590                  25.021834     22.174672     -8.7832   \n",
       "4     0.000000                   0.000000     62.121739     -8.7832   \n",
       "5    16.216389                   9.838668     19.213828     54.5260   \n",
       "6   133.694397                  49.561969      1.103565     54.5260   \n",
       "7    18.269231                   9.653846     18.465035     54.5260   \n",
       "8    33.573913                  38.586957     14.478261     54.5260   \n",
       "9     0.000000                   0.000000     61.669291     54.5260   \n",
       "10   18.507812                   9.729167     21.112847     34.0479   \n",
       "11  106.701771                  32.037279      1.397950     34.0479   \n",
       "12   18.772610                   9.863049     19.102498     34.0479   \n",
       "13   29.065617                  30.498688     20.120735     34.0479   \n",
       "14    0.000000                   0.000000     64.341463     34.0479   \n",
       "15   21.760626                  10.762864     22.835570     54.5260   \n",
       "16  138.117647                  43.571429      0.168067     54.5260   \n",
       "17   21.666667                  11.569395     21.131673     54.5260   \n",
       "18   49.722222                  61.027778      5.148148     54.5260   \n",
       "19    0.000000                   0.000000     62.028571     54.5260   \n",
       "20   19.934641                  11.879085     20.022876    -22.7359   \n",
       "21  120.802239                  32.548507      0.000000    -22.7359   \n",
       "22   17.095116                   8.858612     20.307198    -22.7359   \n",
       "23   48.413043                  50.239130     16.880435    -22.7359   \n",
       "24    0.000000                   0.000000     62.068966    -22.7359   \n",
       "\n",
       "    source_lon  target_lat  target_lon  \n",
       "0      34.5085     -8.7832     34.5085  \n",
       "1      34.5085     54.5260   -105.2551  \n",
       "2      34.5085     34.0479    100.6179  \n",
       "3      34.5085     54.5260     15.2551  \n",
       "4      34.5085    -22.7359    140.0188  \n",
       "5    -105.2551     -8.7832     34.5085  \n",
       "6    -105.2551     54.5260   -105.2551  \n",
       "7    -105.2551     34.0479    100.6179  \n",
       "8    -105.2551     54.5260     15.2551  \n",
       "9    -105.2551    -22.7359    140.0188  \n",
       "10    100.6179     -8.7832     34.5085  \n",
       "11    100.6179     54.5260   -105.2551  \n",
       "12    100.6179     34.0479    100.6179  \n",
       "13    100.6179     54.5260     15.2551  \n",
       "14    100.6179    -22.7359    140.0188  \n",
       "15     15.2551     -8.7832     34.5085  \n",
       "16     15.2551     54.5260   -105.2551  \n",
       "17     15.2551     34.0479    100.6179  \n",
       "18     15.2551     54.5260     15.2551  \n",
       "19     15.2551    -22.7359    140.0188  \n",
       "20    140.0188     -8.7832     34.5085  \n",
       "21    140.0188     54.5260   -105.2551  \n",
       "22    140.0188     34.0479    100.6179  \n",
       "23    140.0188     54.5260     15.2551  \n",
       "24    140.0188    -22.7359    140.0188  "
      ]
     },
     "execution_count": 70,
     "metadata": {},
     "output_type": "execute_result"
    }
   ],
   "source": [
    "regions_latlon.rename(columns={'source_region':'target_region'},inplace=True)\n",
    "visa_costs_regions = visa_costs_regions.merge(regions_latlon, how='left', on='target_region')\n",
    "visa_costs_regions.rename(columns={'latitude':'target_lat', 'longitude':'target_lon'},inplace=True)\n",
    "visa_costs_regions"
   ]
  },
  {
   "cell_type": "markdown",
   "metadata": {},
   "source": [
    "### Take a look at Africa as source country"
   ]
  },
  {
   "cell_type": "code",
   "execution_count": 71,
   "metadata": {},
   "outputs": [
    {
     "data": {
      "text/html": [
       "<div>\n",
       "<style scoped>\n",
       "    .dataframe tbody tr th:only-of-type {\n",
       "        vertical-align: middle;\n",
       "    }\n",
       "\n",
       "    .dataframe tbody tr th {\n",
       "        vertical-align: top;\n",
       "    }\n",
       "\n",
       "    .dataframe thead th {\n",
       "        text-align: right;\n",
       "    }\n",
       "</style>\n",
       "<table border=\"1\" class=\"dataframe\">\n",
       "  <thead>\n",
       "    <tr style=\"text-align: right;\">\n",
       "      <th></th>\n",
       "      <th>source_region</th>\n",
       "      <th>target_region</th>\n",
       "      <th>tourist_visa</th>\n",
       "      <th>student_visa</th>\n",
       "      <th>business_visa</th>\n",
       "      <th>work_visa</th>\n",
       "      <th>family_reunification_visa</th>\n",
       "      <th>transit_visa</th>\n",
       "      <th>source_lat</th>\n",
       "      <th>source_lon</th>\n",
       "      <th>target_lat</th>\n",
       "      <th>target_lon</th>\n",
       "    </tr>\n",
       "  </thead>\n",
       "  <tbody>\n",
       "    <tr>\n",
       "      <th>0</th>\n",
       "      <td>Africa</td>\n",
       "      <td>Africa</td>\n",
       "      <td>65.762357</td>\n",
       "      <td>14.797529</td>\n",
       "      <td>63.549430</td>\n",
       "      <td>13.488593</td>\n",
       "      <td>10.475285</td>\n",
       "      <td>21.437262</td>\n",
       "      <td>-8.7832</td>\n",
       "      <td>34.5085</td>\n",
       "      <td>-8.7832</td>\n",
       "      <td>34.5085</td>\n",
       "    </tr>\n",
       "    <tr>\n",
       "      <th>1</th>\n",
       "      <td>Africa</td>\n",
       "      <td>Americas</td>\n",
       "      <td>67.407906</td>\n",
       "      <td>55.547519</td>\n",
       "      <td>94.349874</td>\n",
       "      <td>99.446594</td>\n",
       "      <td>26.038688</td>\n",
       "      <td>1.640034</td>\n",
       "      <td>-8.7832</td>\n",
       "      <td>34.5085</td>\n",
       "      <td>54.5260</td>\n",
       "      <td>-105.2551</td>\n",
       "    </tr>\n",
       "    <tr>\n",
       "      <th>2</th>\n",
       "      <td>Africa</td>\n",
       "      <td>Asia</td>\n",
       "      <td>42.854035</td>\n",
       "      <td>4.748772</td>\n",
       "      <td>34.240702</td>\n",
       "      <td>17.060351</td>\n",
       "      <td>9.043509</td>\n",
       "      <td>20.268772</td>\n",
       "      <td>-8.7832</td>\n",
       "      <td>34.5085</td>\n",
       "      <td>34.0479</td>\n",
       "      <td>100.6179</td>\n",
       "    </tr>\n",
       "    <tr>\n",
       "      <th>3</th>\n",
       "      <td>Africa</td>\n",
       "      <td>Europe</td>\n",
       "      <td>53.072052</td>\n",
       "      <td>31.703057</td>\n",
       "      <td>53.061135</td>\n",
       "      <td>23.685590</td>\n",
       "      <td>25.021834</td>\n",
       "      <td>22.174672</td>\n",
       "      <td>-8.7832</td>\n",
       "      <td>34.5085</td>\n",
       "      <td>54.5260</td>\n",
       "      <td>15.2551</td>\n",
       "    </tr>\n",
       "    <tr>\n",
       "      <th>4</th>\n",
       "      <td>Africa</td>\n",
       "      <td>Oceania</td>\n",
       "      <td>73.208696</td>\n",
       "      <td>0.000000</td>\n",
       "      <td>98.708696</td>\n",
       "      <td>0.000000</td>\n",
       "      <td>0.000000</td>\n",
       "      <td>62.121739</td>\n",
       "      <td>-8.7832</td>\n",
       "      <td>34.5085</td>\n",
       "      <td>-22.7359</td>\n",
       "      <td>140.0188</td>\n",
       "    </tr>\n",
       "  </tbody>\n",
       "</table>\n",
       "</div>"
      ],
      "text/plain": [
       "  source_region target_region  tourist_visa  student_visa  business_visa  \\\n",
       "0        Africa        Africa     65.762357     14.797529      63.549430   \n",
       "1        Africa      Americas     67.407906     55.547519      94.349874   \n",
       "2        Africa          Asia     42.854035      4.748772      34.240702   \n",
       "3        Africa        Europe     53.072052     31.703057      53.061135   \n",
       "4        Africa       Oceania     73.208696      0.000000      98.708696   \n",
       "\n",
       "   work_visa  family_reunification_visa  transit_visa  source_lat  source_lon  \\\n",
       "0  13.488593                  10.475285     21.437262     -8.7832     34.5085   \n",
       "1  99.446594                  26.038688      1.640034     -8.7832     34.5085   \n",
       "2  17.060351                   9.043509     20.268772     -8.7832     34.5085   \n",
       "3  23.685590                  25.021834     22.174672     -8.7832     34.5085   \n",
       "4   0.000000                   0.000000     62.121739     -8.7832     34.5085   \n",
       "\n",
       "   target_lat  target_lon  \n",
       "0     -8.7832     34.5085  \n",
       "1     54.5260   -105.2551  \n",
       "2     34.0479    100.6179  \n",
       "3     54.5260     15.2551  \n",
       "4    -22.7359    140.0188  "
      ]
     },
     "execution_count": 71,
     "metadata": {},
     "output_type": "execute_result"
    }
   ],
   "source": [
    "visa_costs_africa = visa_costs_regions.loc[visa_costs_regions['source_region'] == 'Africa']\n",
    "visa_costs_africa"
   ]
  },
  {
   "cell_type": "markdown",
   "metadata": {},
   "source": [
    "### Need to change target_lat and target_lon of target_region Africa since this path will point to itself and we won't be able to see it otherwise"
   ]
  },
  {
   "cell_type": "code",
   "execution_count": 76,
   "metadata": {},
   "outputs": [
    {
     "name": "stderr",
     "output_type": "stream",
     "text": [
      "C:\\Users\\kims\\Anaconda3\\lib\\site-packages\\pandas\\core\\indexing.py:966: SettingWithCopyWarning:\n",
      "\n",
      "\n",
      "A value is trying to be set on a copy of a slice from a DataFrame.\n",
      "Try using .loc[row_indexer,col_indexer] = value instead\n",
      "\n",
      "See the caveats in the documentation: https://pandas.pydata.org/pandas-docs/stable/user_guide/indexing.html#returning-a-view-versus-a-copy\n",
      "\n"
     ]
    },
    {
     "data": {
      "text/html": [
       "<div>\n",
       "<style scoped>\n",
       "    .dataframe tbody tr th:only-of-type {\n",
       "        vertical-align: middle;\n",
       "    }\n",
       "\n",
       "    .dataframe tbody tr th {\n",
       "        vertical-align: top;\n",
       "    }\n",
       "\n",
       "    .dataframe thead th {\n",
       "        text-align: right;\n",
       "    }\n",
       "</style>\n",
       "<table border=\"1\" class=\"dataframe\">\n",
       "  <thead>\n",
       "    <tr style=\"text-align: right;\">\n",
       "      <th></th>\n",
       "      <th>source_region</th>\n",
       "      <th>target_region</th>\n",
       "      <th>tourist_visa</th>\n",
       "      <th>student_visa</th>\n",
       "      <th>business_visa</th>\n",
       "      <th>work_visa</th>\n",
       "      <th>family_reunification_visa</th>\n",
       "      <th>transit_visa</th>\n",
       "      <th>source_lat</th>\n",
       "      <th>source_lon</th>\n",
       "      <th>target_lat</th>\n",
       "      <th>target_lon</th>\n",
       "      <th>10</th>\n",
       "    </tr>\n",
       "  </thead>\n",
       "  <tbody>\n",
       "    <tr>\n",
       "      <th>0</th>\n",
       "      <td>Africa</td>\n",
       "      <td>Africa</td>\n",
       "      <td>65.762357</td>\n",
       "      <td>14.797529</td>\n",
       "      <td>63.549430</td>\n",
       "      <td>13.488593</td>\n",
       "      <td>10.475285</td>\n",
       "      <td>21.437262</td>\n",
       "      <td>-8.7832</td>\n",
       "      <td>34.5085</td>\n",
       "      <td>10.0000</td>\n",
       "      <td>34.5085</td>\n",
       "      <td>10.0</td>\n",
       "    </tr>\n",
       "    <tr>\n",
       "      <th>1</th>\n",
       "      <td>Africa</td>\n",
       "      <td>Americas</td>\n",
       "      <td>67.407906</td>\n",
       "      <td>55.547519</td>\n",
       "      <td>94.349874</td>\n",
       "      <td>99.446594</td>\n",
       "      <td>26.038688</td>\n",
       "      <td>1.640034</td>\n",
       "      <td>-8.7832</td>\n",
       "      <td>34.5085</td>\n",
       "      <td>54.5260</td>\n",
       "      <td>-105.2551</td>\n",
       "      <td>NaN</td>\n",
       "    </tr>\n",
       "    <tr>\n",
       "      <th>2</th>\n",
       "      <td>Africa</td>\n",
       "      <td>Asia</td>\n",
       "      <td>42.854035</td>\n",
       "      <td>4.748772</td>\n",
       "      <td>34.240702</td>\n",
       "      <td>17.060351</td>\n",
       "      <td>9.043509</td>\n",
       "      <td>20.268772</td>\n",
       "      <td>-8.7832</td>\n",
       "      <td>34.5085</td>\n",
       "      <td>34.0479</td>\n",
       "      <td>100.6179</td>\n",
       "      <td>NaN</td>\n",
       "    </tr>\n",
       "    <tr>\n",
       "      <th>3</th>\n",
       "      <td>Africa</td>\n",
       "      <td>Europe</td>\n",
       "      <td>53.072052</td>\n",
       "      <td>31.703057</td>\n",
       "      <td>53.061135</td>\n",
       "      <td>23.685590</td>\n",
       "      <td>25.021834</td>\n",
       "      <td>22.174672</td>\n",
       "      <td>-8.7832</td>\n",
       "      <td>34.5085</td>\n",
       "      <td>54.5260</td>\n",
       "      <td>15.2551</td>\n",
       "      <td>NaN</td>\n",
       "    </tr>\n",
       "    <tr>\n",
       "      <th>4</th>\n",
       "      <td>Africa</td>\n",
       "      <td>Oceania</td>\n",
       "      <td>73.208696</td>\n",
       "      <td>0.000000</td>\n",
       "      <td>98.708696</td>\n",
       "      <td>0.000000</td>\n",
       "      <td>0.000000</td>\n",
       "      <td>62.121739</td>\n",
       "      <td>-8.7832</td>\n",
       "      <td>34.5085</td>\n",
       "      <td>-22.7359</td>\n",
       "      <td>140.0188</td>\n",
       "      <td>NaN</td>\n",
       "    </tr>\n",
       "  </tbody>\n",
       "</table>\n",
       "</div>"
      ],
      "text/plain": [
       "  source_region target_region  tourist_visa  student_visa  business_visa  \\\n",
       "0        Africa        Africa     65.762357     14.797529      63.549430   \n",
       "1        Africa      Americas     67.407906     55.547519      94.349874   \n",
       "2        Africa          Asia     42.854035      4.748772      34.240702   \n",
       "3        Africa        Europe     53.072052     31.703057      53.061135   \n",
       "4        Africa       Oceania     73.208696      0.000000      98.708696   \n",
       "\n",
       "   work_visa  family_reunification_visa  transit_visa  source_lat  source_lon  \\\n",
       "0  13.488593                  10.475285     21.437262     -8.7832     34.5085   \n",
       "1  99.446594                  26.038688      1.640034     -8.7832     34.5085   \n",
       "2  17.060351                   9.043509     20.268772     -8.7832     34.5085   \n",
       "3  23.685590                  25.021834     22.174672     -8.7832     34.5085   \n",
       "4   0.000000                   0.000000     62.121739     -8.7832     34.5085   \n",
       "\n",
       "   target_lat  target_lon    10  \n",
       "0     10.0000     34.5085  10.0  \n",
       "1     54.5260   -105.2551   NaN  \n",
       "2     34.0479    100.6179   NaN  \n",
       "3     54.5260     15.2551   NaN  \n",
       "4    -22.7359    140.0188   NaN  "
      ]
     },
     "execution_count": 76,
     "metadata": {},
     "output_type": "execute_result"
    }
   ],
   "source": [
    "visa_costs_africa.iloc[0,10] = 10\n",
    "visa_costs_africa"
   ]
  },
  {
   "cell_type": "code",
   "execution_count": 77,
   "metadata": {},
   "outputs": [],
   "source": [
    "# How much does it typically cost to go on vacation out of Africa (how much do tourist visas source Africa cost)"
   ]
  },
  {
   "cell_type": "code",
   "execution_count": 83,
   "metadata": {},
   "outputs": [
    {
     "data": {
      "application/vnd.plotly.v1+json": {
       "config": {
        "plotlyServerURL": "https://plot.ly"
       },
       "data": [
        {
         "lat": [
          -8.7832,
          10
         ],
         "legendgroup": "africa_tourist",
         "line": {
          "color": "green",
          "width": 8.982861506902953
         },
         "locationmode": "ISO-3",
         "lon": [
          34.5085,
          34.5085
         ],
         "mode": "lines",
         "name": "Africa",
         "type": "scattergeo"
        },
        {
         "lat": [
          -8.7832,
          54.526
         ],
         "legendgroup": "africa_tourist",
         "line": {
          "color": "green",
          "width": 9.207636497645248
         },
         "locationmode": "ISO-3",
         "lon": [
          34.5085,
          -105.2551
         ],
         "mode": "lines",
         "name": "Americas",
         "type": "scattergeo"
        },
        {
         "lat": [
          -8.7832,
          34.0479
         ],
         "legendgroup": "africa_tourist",
         "line": {
          "color": "green",
          "width": 5.853681001410759
         },
         "locationmode": "ISO-3",
         "lon": [
          34.5085,
          100.6179
         ],
         "mode": "lines",
         "name": "Asia",
         "type": "scattergeo"
        },
        {
         "lat": [
          -8.7832,
          54.526
         ],
         "legendgroup": "africa_tourist",
         "line": {
          "color": "green",
          "width": 7.249419202044035
         },
         "locationmode": "ISO-3",
         "lon": [
          34.5085,
          15.2551
         ],
         "mode": "lines",
         "name": "Europe",
         "type": "scattergeo"
        },
        {
         "lat": [
          -8.7832,
          -22.7359
         ],
         "legendgroup": "africa_tourist",
         "line": {
          "color": "green",
          "width": 10
         },
         "locationmode": "ISO-3",
         "lon": [
          34.5085,
          140.0188
         ],
         "mode": "lines",
         "name": "Oceania",
         "type": "scattergeo"
        },
        {
         "lat": [
          -8.7832,
          10
         ],
         "legendgroup": "africa_student",
         "line": {
          "color": "blue",
          "width": 2.66394049705419
         },
         "locationmode": "ISO-3",
         "lon": [
          34.5085,
          34.5085
         ],
         "mode": "lines",
         "name": "Africa",
         "type": "scattergeo"
        },
        {
         "lat": [
          -8.7832,
          54.526
         ],
         "legendgroup": "africa_student",
         "line": {
          "color": "blue",
          "width": 10
         },
         "locationmode": "ISO-3",
         "lon": [
          34.5085,
          -105.2551
         ],
         "mode": "lines",
         "name": "Americas",
         "type": "scattergeo"
        },
        {
         "lat": [
          -8.7832,
          34.0479
         ],
         "legendgroup": "africa_student",
         "line": {
          "color": "blue",
          "width": 0.854902617048936
         },
         "locationmode": "ISO-3",
         "lon": [
          34.5085,
          100.6179
         ],
         "mode": "lines",
         "name": "Asia",
         "type": "scattergeo"
        },
        {
         "lat": [
          -8.7832,
          54.526
         ],
         "legendgroup": "africa_student",
         "line": {
          "color": "blue",
          "width": 5.707375843778063
         },
         "locationmode": "ISO-3",
         "lon": [
          34.5085,
          15.2551
         ],
         "mode": "lines",
         "name": "Europe",
         "type": "scattergeo"
        },
        {
         "lat": [
          -8.7832,
          -22.7359
         ],
         "legendgroup": "africa_student",
         "line": {
          "color": "blue",
          "width": 0
         },
         "locationmode": "ISO-3",
         "lon": [
          34.5085,
          140.0188
         ],
         "mode": "lines",
         "name": "Oceania",
         "type": "scattergeo"
        },
        {
         "lat": [
          -8.7832,
          10
         ],
         "legendgroup": "africa_business",
         "line": {
          "color": "red",
          "width": 6.438078148831773
         },
         "locationmode": "ISO-3",
         "lon": [
          34.5085,
          34.5085
         ],
         "mode": "lines",
         "name": "Africa",
         "type": "scattergeo"
        },
        {
         "lat": [
          -8.7832,
          54.526
         ],
         "legendgroup": "africa_business",
         "line": {
          "color": "red",
          "width": 9.55841562085195
         },
         "locationmode": "ISO-3",
         "lon": [
          34.5085,
          -105.2551
         ],
         "mode": "lines",
         "name": "Americas",
         "type": "scattergeo"
        },
        {
         "lat": [
          -8.7832,
          34.0479
         ],
         "legendgroup": "africa_business",
         "line": {
          "color": "red",
          "width": 3.4688637640438587
         },
         "locationmode": "ISO-3",
         "lon": [
          34.5085,
          100.6179
         ],
         "mode": "lines",
         "name": "Asia",
         "type": "scattergeo"
        },
        {
         "lat": [
          -8.7832,
          54.526
         ],
         "legendgroup": "africa_business",
         "line": {
          "color": "red",
          "width": 5.375527963428261
         },
         "locationmode": "ISO-3",
         "lon": [
          34.5085,
          15.2551
         ],
         "mode": "lines",
         "name": "Europe",
         "type": "scattergeo"
        },
        {
         "lat": [
          -8.7832,
          -22.7359
         ],
         "legendgroup": "africa_business",
         "line": {
          "color": "red",
          "width": 10
         },
         "locationmode": "ISO-3",
         "lon": [
          34.5085,
          140.0188
         ],
         "mode": "lines",
         "name": "Oceania",
         "type": "scattergeo"
        },
        {
         "lat": [
          -8.7832,
          10
         ],
         "legendgroup": "africa_work",
         "line": {
          "color": "purple",
          "width": 1.3563655268311947
         },
         "locationmode": "ISO-3",
         "lon": [
          34.5085,
          34.5085
         ],
         "mode": "lines",
         "name": "Africa",
         "type": "scattergeo"
        },
        {
         "lat": [
          -8.7832,
          54.526
         ],
         "legendgroup": "africa_work",
         "line": {
          "color": "purple",
          "width": 10
         },
         "locationmode": "ISO-3",
         "lon": [
          34.5085,
          -105.2551
         ],
         "mode": "lines",
         "name": "Americas",
         "type": "scattergeo"
        },
        {
         "lat": [
          -8.7832,
          34.0479
         ],
         "legendgroup": "africa_work",
         "line": {
          "color": "purple",
          "width": 1.7155289315964253
         },
         "locationmode": "ISO-3",
         "lon": [
          34.5085,
          100.6179
         ],
         "mode": "lines",
         "name": "Asia",
         "type": "scattergeo"
        },
        {
         "lat": [
          -8.7832,
          54.526
         ],
         "legendgroup": "africa_work",
         "line": {
          "color": "purple",
          "width": 2.381739647406558
         },
         "locationmode": "ISO-3",
         "lon": [
          34.5085,
          15.2551
         ],
         "mode": "lines",
         "name": "Europe",
         "type": "scattergeo"
        },
        {
         "lat": [
          -8.7832,
          -22.7359
         ],
         "legendgroup": "africa_work",
         "line": {
          "color": "purple",
          "width": 0
         },
         "locationmode": "ISO-3",
         "lon": [
          34.5085,
          140.0188
         ],
         "mode": "lines",
         "name": "Oceania",
         "type": "scattergeo"
        }
       ],
       "layout": {
        "showlegend": true,
        "template": {
         "data": {
          "bar": [
           {
            "error_x": {
             "color": "#2a3f5f"
            },
            "error_y": {
             "color": "#2a3f5f"
            },
            "marker": {
             "line": {
              "color": "#E5ECF6",
              "width": 0.5
             }
            },
            "type": "bar"
           }
          ],
          "barpolar": [
           {
            "marker": {
             "line": {
              "color": "#E5ECF6",
              "width": 0.5
             }
            },
            "type": "barpolar"
           }
          ],
          "carpet": [
           {
            "aaxis": {
             "endlinecolor": "#2a3f5f",
             "gridcolor": "white",
             "linecolor": "white",
             "minorgridcolor": "white",
             "startlinecolor": "#2a3f5f"
            },
            "baxis": {
             "endlinecolor": "#2a3f5f",
             "gridcolor": "white",
             "linecolor": "white",
             "minorgridcolor": "white",
             "startlinecolor": "#2a3f5f"
            },
            "type": "carpet"
           }
          ],
          "choropleth": [
           {
            "colorbar": {
             "outlinewidth": 0,
             "ticks": ""
            },
            "type": "choropleth"
           }
          ],
          "contour": [
           {
            "colorbar": {
             "outlinewidth": 0,
             "ticks": ""
            },
            "colorscale": [
             [
              0,
              "#0d0887"
             ],
             [
              0.1111111111111111,
              "#46039f"
             ],
             [
              0.2222222222222222,
              "#7201a8"
             ],
             [
              0.3333333333333333,
              "#9c179e"
             ],
             [
              0.4444444444444444,
              "#bd3786"
             ],
             [
              0.5555555555555556,
              "#d8576b"
             ],
             [
              0.6666666666666666,
              "#ed7953"
             ],
             [
              0.7777777777777778,
              "#fb9f3a"
             ],
             [
              0.8888888888888888,
              "#fdca26"
             ],
             [
              1,
              "#f0f921"
             ]
            ],
            "type": "contour"
           }
          ],
          "contourcarpet": [
           {
            "colorbar": {
             "outlinewidth": 0,
             "ticks": ""
            },
            "type": "contourcarpet"
           }
          ],
          "heatmap": [
           {
            "colorbar": {
             "outlinewidth": 0,
             "ticks": ""
            },
            "colorscale": [
             [
              0,
              "#0d0887"
             ],
             [
              0.1111111111111111,
              "#46039f"
             ],
             [
              0.2222222222222222,
              "#7201a8"
             ],
             [
              0.3333333333333333,
              "#9c179e"
             ],
             [
              0.4444444444444444,
              "#bd3786"
             ],
             [
              0.5555555555555556,
              "#d8576b"
             ],
             [
              0.6666666666666666,
              "#ed7953"
             ],
             [
              0.7777777777777778,
              "#fb9f3a"
             ],
             [
              0.8888888888888888,
              "#fdca26"
             ],
             [
              1,
              "#f0f921"
             ]
            ],
            "type": "heatmap"
           }
          ],
          "heatmapgl": [
           {
            "colorbar": {
             "outlinewidth": 0,
             "ticks": ""
            },
            "colorscale": [
             [
              0,
              "#0d0887"
             ],
             [
              0.1111111111111111,
              "#46039f"
             ],
             [
              0.2222222222222222,
              "#7201a8"
             ],
             [
              0.3333333333333333,
              "#9c179e"
             ],
             [
              0.4444444444444444,
              "#bd3786"
             ],
             [
              0.5555555555555556,
              "#d8576b"
             ],
             [
              0.6666666666666666,
              "#ed7953"
             ],
             [
              0.7777777777777778,
              "#fb9f3a"
             ],
             [
              0.8888888888888888,
              "#fdca26"
             ],
             [
              1,
              "#f0f921"
             ]
            ],
            "type": "heatmapgl"
           }
          ],
          "histogram": [
           {
            "marker": {
             "colorbar": {
              "outlinewidth": 0,
              "ticks": ""
             }
            },
            "type": "histogram"
           }
          ],
          "histogram2d": [
           {
            "colorbar": {
             "outlinewidth": 0,
             "ticks": ""
            },
            "colorscale": [
             [
              0,
              "#0d0887"
             ],
             [
              0.1111111111111111,
              "#46039f"
             ],
             [
              0.2222222222222222,
              "#7201a8"
             ],
             [
              0.3333333333333333,
              "#9c179e"
             ],
             [
              0.4444444444444444,
              "#bd3786"
             ],
             [
              0.5555555555555556,
              "#d8576b"
             ],
             [
              0.6666666666666666,
              "#ed7953"
             ],
             [
              0.7777777777777778,
              "#fb9f3a"
             ],
             [
              0.8888888888888888,
              "#fdca26"
             ],
             [
              1,
              "#f0f921"
             ]
            ],
            "type": "histogram2d"
           }
          ],
          "histogram2dcontour": [
           {
            "colorbar": {
             "outlinewidth": 0,
             "ticks": ""
            },
            "colorscale": [
             [
              0,
              "#0d0887"
             ],
             [
              0.1111111111111111,
              "#46039f"
             ],
             [
              0.2222222222222222,
              "#7201a8"
             ],
             [
              0.3333333333333333,
              "#9c179e"
             ],
             [
              0.4444444444444444,
              "#bd3786"
             ],
             [
              0.5555555555555556,
              "#d8576b"
             ],
             [
              0.6666666666666666,
              "#ed7953"
             ],
             [
              0.7777777777777778,
              "#fb9f3a"
             ],
             [
              0.8888888888888888,
              "#fdca26"
             ],
             [
              1,
              "#f0f921"
             ]
            ],
            "type": "histogram2dcontour"
           }
          ],
          "mesh3d": [
           {
            "colorbar": {
             "outlinewidth": 0,
             "ticks": ""
            },
            "type": "mesh3d"
           }
          ],
          "parcoords": [
           {
            "line": {
             "colorbar": {
              "outlinewidth": 0,
              "ticks": ""
             }
            },
            "type": "parcoords"
           }
          ],
          "pie": [
           {
            "automargin": true,
            "type": "pie"
           }
          ],
          "scatter": [
           {
            "marker": {
             "colorbar": {
              "outlinewidth": 0,
              "ticks": ""
             }
            },
            "type": "scatter"
           }
          ],
          "scatter3d": [
           {
            "line": {
             "colorbar": {
              "outlinewidth": 0,
              "ticks": ""
             }
            },
            "marker": {
             "colorbar": {
              "outlinewidth": 0,
              "ticks": ""
             }
            },
            "type": "scatter3d"
           }
          ],
          "scattercarpet": [
           {
            "marker": {
             "colorbar": {
              "outlinewidth": 0,
              "ticks": ""
             }
            },
            "type": "scattercarpet"
           }
          ],
          "scattergeo": [
           {
            "marker": {
             "colorbar": {
              "outlinewidth": 0,
              "ticks": ""
             }
            },
            "type": "scattergeo"
           }
          ],
          "scattergl": [
           {
            "marker": {
             "colorbar": {
              "outlinewidth": 0,
              "ticks": ""
             }
            },
            "type": "scattergl"
           }
          ],
          "scattermapbox": [
           {
            "marker": {
             "colorbar": {
              "outlinewidth": 0,
              "ticks": ""
             }
            },
            "type": "scattermapbox"
           }
          ],
          "scatterpolar": [
           {
            "marker": {
             "colorbar": {
              "outlinewidth": 0,
              "ticks": ""
             }
            },
            "type": "scatterpolar"
           }
          ],
          "scatterpolargl": [
           {
            "marker": {
             "colorbar": {
              "outlinewidth": 0,
              "ticks": ""
             }
            },
            "type": "scatterpolargl"
           }
          ],
          "scatterternary": [
           {
            "marker": {
             "colorbar": {
              "outlinewidth": 0,
              "ticks": ""
             }
            },
            "type": "scatterternary"
           }
          ],
          "surface": [
           {
            "colorbar": {
             "outlinewidth": 0,
             "ticks": ""
            },
            "colorscale": [
             [
              0,
              "#0d0887"
             ],
             [
              0.1111111111111111,
              "#46039f"
             ],
             [
              0.2222222222222222,
              "#7201a8"
             ],
             [
              0.3333333333333333,
              "#9c179e"
             ],
             [
              0.4444444444444444,
              "#bd3786"
             ],
             [
              0.5555555555555556,
              "#d8576b"
             ],
             [
              0.6666666666666666,
              "#ed7953"
             ],
             [
              0.7777777777777778,
              "#fb9f3a"
             ],
             [
              0.8888888888888888,
              "#fdca26"
             ],
             [
              1,
              "#f0f921"
             ]
            ],
            "type": "surface"
           }
          ],
          "table": [
           {
            "cells": {
             "fill": {
              "color": "#EBF0F8"
             },
             "line": {
              "color": "white"
             }
            },
            "header": {
             "fill": {
              "color": "#C8D4E3"
             },
             "line": {
              "color": "white"
             }
            },
            "type": "table"
           }
          ]
         },
         "layout": {
          "annotationdefaults": {
           "arrowcolor": "#2a3f5f",
           "arrowhead": 0,
           "arrowwidth": 1
          },
          "coloraxis": {
           "colorbar": {
            "outlinewidth": 0,
            "ticks": ""
           }
          },
          "colorscale": {
           "diverging": [
            [
             0,
             "#8e0152"
            ],
            [
             0.1,
             "#c51b7d"
            ],
            [
             0.2,
             "#de77ae"
            ],
            [
             0.3,
             "#f1b6da"
            ],
            [
             0.4,
             "#fde0ef"
            ],
            [
             0.5,
             "#f7f7f7"
            ],
            [
             0.6,
             "#e6f5d0"
            ],
            [
             0.7,
             "#b8e186"
            ],
            [
             0.8,
             "#7fbc41"
            ],
            [
             0.9,
             "#4d9221"
            ],
            [
             1,
             "#276419"
            ]
           ],
           "sequential": [
            [
             0,
             "#0d0887"
            ],
            [
             0.1111111111111111,
             "#46039f"
            ],
            [
             0.2222222222222222,
             "#7201a8"
            ],
            [
             0.3333333333333333,
             "#9c179e"
            ],
            [
             0.4444444444444444,
             "#bd3786"
            ],
            [
             0.5555555555555556,
             "#d8576b"
            ],
            [
             0.6666666666666666,
             "#ed7953"
            ],
            [
             0.7777777777777778,
             "#fb9f3a"
            ],
            [
             0.8888888888888888,
             "#fdca26"
            ],
            [
             1,
             "#f0f921"
            ]
           ],
           "sequentialminus": [
            [
             0,
             "#0d0887"
            ],
            [
             0.1111111111111111,
             "#46039f"
            ],
            [
             0.2222222222222222,
             "#7201a8"
            ],
            [
             0.3333333333333333,
             "#9c179e"
            ],
            [
             0.4444444444444444,
             "#bd3786"
            ],
            [
             0.5555555555555556,
             "#d8576b"
            ],
            [
             0.6666666666666666,
             "#ed7953"
            ],
            [
             0.7777777777777778,
             "#fb9f3a"
            ],
            [
             0.8888888888888888,
             "#fdca26"
            ],
            [
             1,
             "#f0f921"
            ]
           ]
          },
          "colorway": [
           "#636efa",
           "#EF553B",
           "#00cc96",
           "#ab63fa",
           "#FFA15A",
           "#19d3f3",
           "#FF6692",
           "#B6E880",
           "#FF97FF",
           "#FECB52"
          ],
          "font": {
           "color": "#2a3f5f"
          },
          "geo": {
           "bgcolor": "white",
           "lakecolor": "white",
           "landcolor": "#E5ECF6",
           "showlakes": true,
           "showland": true,
           "subunitcolor": "white"
          },
          "hoverlabel": {
           "align": "left"
          },
          "hovermode": "closest",
          "mapbox": {
           "style": "light"
          },
          "paper_bgcolor": "white",
          "plot_bgcolor": "#E5ECF6",
          "polar": {
           "angularaxis": {
            "gridcolor": "white",
            "linecolor": "white",
            "ticks": ""
           },
           "bgcolor": "#E5ECF6",
           "radialaxis": {
            "gridcolor": "white",
            "linecolor": "white",
            "ticks": ""
           }
          },
          "scene": {
           "xaxis": {
            "backgroundcolor": "#E5ECF6",
            "gridcolor": "white",
            "gridwidth": 2,
            "linecolor": "white",
            "showbackground": true,
            "ticks": "",
            "zerolinecolor": "white"
           },
           "yaxis": {
            "backgroundcolor": "#E5ECF6",
            "gridcolor": "white",
            "gridwidth": 2,
            "linecolor": "white",
            "showbackground": true,
            "ticks": "",
            "zerolinecolor": "white"
           },
           "zaxis": {
            "backgroundcolor": "#E5ECF6",
            "gridcolor": "white",
            "gridwidth": 2,
            "linecolor": "white",
            "showbackground": true,
            "ticks": "",
            "zerolinecolor": "white"
           }
          },
          "shapedefaults": {
           "line": {
            "color": "#2a3f5f"
           }
          },
          "ternary": {
           "aaxis": {
            "gridcolor": "white",
            "linecolor": "white",
            "ticks": ""
           },
           "baxis": {
            "gridcolor": "white",
            "linecolor": "white",
            "ticks": ""
           },
           "bgcolor": "#E5ECF6",
           "caxis": {
            "gridcolor": "white",
            "linecolor": "white",
            "ticks": ""
           }
          },
          "title": {
           "x": 0.05
          },
          "xaxis": {
           "automargin": true,
           "gridcolor": "white",
           "linecolor": "white",
           "ticks": "",
           "title": {
            "standoff": 15
           },
           "zerolinecolor": "white",
           "zerolinewidth": 2
          },
          "yaxis": {
           "automargin": true,
           "gridcolor": "white",
           "linecolor": "white",
           "ticks": "",
           "title": {
            "standoff": 15
           },
           "zerolinecolor": "white",
           "zerolinewidth": 2
          }
         }
        },
        "title": {
         "text": "Representation of Different Visa Costs from Africa to Other Regions"
        }
       }
      },
      "text/html": [
       "<div>                            <div id=\"ce31f316-11a4-42d3-be50-d078cb928c7f\" class=\"plotly-graph-div\" style=\"height:525px; width:100%;\"></div>            <script type=\"text/javascript\">                require([\"plotly\"], function(Plotly) {                    window.PLOTLYENV=window.PLOTLYENV || {};                                    if (document.getElementById(\"ce31f316-11a4-42d3-be50-d078cb928c7f\")) {                    Plotly.newPlot(                        \"ce31f316-11a4-42d3-be50-d078cb928c7f\",                        [{\"lat\": [-8.7832, 10.0], \"legendgroup\": \"africa_tourist\", \"line\": {\"color\": \"green\", \"width\": 8.982861506902953}, \"locationmode\": \"ISO-3\", \"lon\": [34.5085, 34.5085], \"mode\": \"lines\", \"name\": \"Africa\", \"type\": \"scattergeo\"}, {\"lat\": [-8.7832, 54.526], \"legendgroup\": \"africa_tourist\", \"line\": {\"color\": \"green\", \"width\": 9.207636497645248}, \"locationmode\": \"ISO-3\", \"lon\": [34.5085, -105.2551], \"mode\": \"lines\", \"name\": \"Americas\", \"type\": \"scattergeo\"}, {\"lat\": [-8.7832, 34.0479], \"legendgroup\": \"africa_tourist\", \"line\": {\"color\": \"green\", \"width\": 5.853681001410759}, \"locationmode\": \"ISO-3\", \"lon\": [34.5085, 100.6179], \"mode\": \"lines\", \"name\": \"Asia\", \"type\": \"scattergeo\"}, {\"lat\": [-8.7832, 54.526], \"legendgroup\": \"africa_tourist\", \"line\": {\"color\": \"green\", \"width\": 7.249419202044035}, \"locationmode\": \"ISO-3\", \"lon\": [34.5085, 15.2551], \"mode\": \"lines\", \"name\": \"Europe\", \"type\": \"scattergeo\"}, {\"lat\": [-8.7832, -22.7359], \"legendgroup\": \"africa_tourist\", \"line\": {\"color\": \"green\", \"width\": 10.0}, \"locationmode\": \"ISO-3\", \"lon\": [34.5085, 140.0188], \"mode\": \"lines\", \"name\": \"Oceania\", \"type\": \"scattergeo\"}, {\"lat\": [-8.7832, 10.0], \"legendgroup\": \"africa_student\", \"line\": {\"color\": \"blue\", \"width\": 2.66394049705419}, \"locationmode\": \"ISO-3\", \"lon\": [34.5085, 34.5085], \"mode\": \"lines\", \"name\": \"Africa\", \"type\": \"scattergeo\"}, {\"lat\": [-8.7832, 54.526], \"legendgroup\": \"africa_student\", \"line\": {\"color\": \"blue\", \"width\": 10.0}, \"locationmode\": \"ISO-3\", \"lon\": [34.5085, -105.2551], \"mode\": \"lines\", \"name\": \"Americas\", \"type\": \"scattergeo\"}, {\"lat\": [-8.7832, 34.0479], \"legendgroup\": \"africa_student\", \"line\": {\"color\": \"blue\", \"width\": 0.854902617048936}, \"locationmode\": \"ISO-3\", \"lon\": [34.5085, 100.6179], \"mode\": \"lines\", \"name\": \"Asia\", \"type\": \"scattergeo\"}, {\"lat\": [-8.7832, 54.526], \"legendgroup\": \"africa_student\", \"line\": {\"color\": \"blue\", \"width\": 5.707375843778063}, \"locationmode\": \"ISO-3\", \"lon\": [34.5085, 15.2551], \"mode\": \"lines\", \"name\": \"Europe\", \"type\": \"scattergeo\"}, {\"lat\": [-8.7832, -22.7359], \"legendgroup\": \"africa_student\", \"line\": {\"color\": \"blue\", \"width\": 0.0}, \"locationmode\": \"ISO-3\", \"lon\": [34.5085, 140.0188], \"mode\": \"lines\", \"name\": \"Oceania\", \"type\": \"scattergeo\"}, {\"lat\": [-8.7832, 10.0], \"legendgroup\": \"africa_business\", \"line\": {\"color\": \"red\", \"width\": 6.438078148831773}, \"locationmode\": \"ISO-3\", \"lon\": [34.5085, 34.5085], \"mode\": \"lines\", \"name\": \"Africa\", \"type\": \"scattergeo\"}, {\"lat\": [-8.7832, 54.526], \"legendgroup\": \"africa_business\", \"line\": {\"color\": \"red\", \"width\": 9.55841562085195}, \"locationmode\": \"ISO-3\", \"lon\": [34.5085, -105.2551], \"mode\": \"lines\", \"name\": \"Americas\", \"type\": \"scattergeo\"}, {\"lat\": [-8.7832, 34.0479], \"legendgroup\": \"africa_business\", \"line\": {\"color\": \"red\", \"width\": 3.4688637640438587}, \"locationmode\": \"ISO-3\", \"lon\": [34.5085, 100.6179], \"mode\": \"lines\", \"name\": \"Asia\", \"type\": \"scattergeo\"}, {\"lat\": [-8.7832, 54.526], \"legendgroup\": \"africa_business\", \"line\": {\"color\": \"red\", \"width\": 5.375527963428261}, \"locationmode\": \"ISO-3\", \"lon\": [34.5085, 15.2551], \"mode\": \"lines\", \"name\": \"Europe\", \"type\": \"scattergeo\"}, {\"lat\": [-8.7832, -22.7359], \"legendgroup\": \"africa_business\", \"line\": {\"color\": \"red\", \"width\": 10.0}, \"locationmode\": \"ISO-3\", \"lon\": [34.5085, 140.0188], \"mode\": \"lines\", \"name\": \"Oceania\", \"type\": \"scattergeo\"}, {\"lat\": [-8.7832, 10.0], \"legendgroup\": \"africa_work\", \"line\": {\"color\": \"purple\", \"width\": 1.3563655268311947}, \"locationmode\": \"ISO-3\", \"lon\": [34.5085, 34.5085], \"mode\": \"lines\", \"name\": \"Africa\", \"type\": \"scattergeo\"}, {\"lat\": [-8.7832, 54.526], \"legendgroup\": \"africa_work\", \"line\": {\"color\": \"purple\", \"width\": 10.0}, \"locationmode\": \"ISO-3\", \"lon\": [34.5085, -105.2551], \"mode\": \"lines\", \"name\": \"Americas\", \"type\": \"scattergeo\"}, {\"lat\": [-8.7832, 34.0479], \"legendgroup\": \"africa_work\", \"line\": {\"color\": \"purple\", \"width\": 1.7155289315964253}, \"locationmode\": \"ISO-3\", \"lon\": [34.5085, 100.6179], \"mode\": \"lines\", \"name\": \"Asia\", \"type\": \"scattergeo\"}, {\"lat\": [-8.7832, 54.526], \"legendgroup\": \"africa_work\", \"line\": {\"color\": \"purple\", \"width\": 2.381739647406558}, \"locationmode\": \"ISO-3\", \"lon\": [34.5085, 15.2551], \"mode\": \"lines\", \"name\": \"Europe\", \"type\": \"scattergeo\"}, {\"lat\": [-8.7832, -22.7359], \"legendgroup\": \"africa_work\", \"line\": {\"color\": \"purple\", \"width\": 0.0}, \"locationmode\": \"ISO-3\", \"lon\": [34.5085, 140.0188], \"mode\": \"lines\", \"name\": \"Oceania\", \"type\": \"scattergeo\"}],                        {\"showlegend\": true, \"template\": {\"data\": {\"bar\": [{\"error_x\": {\"color\": \"#2a3f5f\"}, \"error_y\": {\"color\": \"#2a3f5f\"}, \"marker\": {\"line\": {\"color\": \"#E5ECF6\", \"width\": 0.5}}, \"type\": \"bar\"}], \"barpolar\": [{\"marker\": {\"line\": {\"color\": \"#E5ECF6\", \"width\": 0.5}}, \"type\": \"barpolar\"}], \"carpet\": [{\"aaxis\": {\"endlinecolor\": \"#2a3f5f\", \"gridcolor\": \"white\", \"linecolor\": \"white\", \"minorgridcolor\": \"white\", \"startlinecolor\": \"#2a3f5f\"}, \"baxis\": {\"endlinecolor\": \"#2a3f5f\", \"gridcolor\": \"white\", \"linecolor\": \"white\", \"minorgridcolor\": \"white\", \"startlinecolor\": \"#2a3f5f\"}, \"type\": \"carpet\"}], \"choropleth\": [{\"colorbar\": {\"outlinewidth\": 0, \"ticks\": \"\"}, \"type\": \"choropleth\"}], \"contour\": [{\"colorbar\": {\"outlinewidth\": 0, \"ticks\": \"\"}, \"colorscale\": [[0.0, \"#0d0887\"], [0.1111111111111111, \"#46039f\"], [0.2222222222222222, \"#7201a8\"], [0.3333333333333333, \"#9c179e\"], [0.4444444444444444, \"#bd3786\"], [0.5555555555555556, \"#d8576b\"], [0.6666666666666666, \"#ed7953\"], [0.7777777777777778, \"#fb9f3a\"], [0.8888888888888888, \"#fdca26\"], [1.0, \"#f0f921\"]], \"type\": \"contour\"}], \"contourcarpet\": [{\"colorbar\": {\"outlinewidth\": 0, \"ticks\": \"\"}, \"type\": \"contourcarpet\"}], \"heatmap\": [{\"colorbar\": {\"outlinewidth\": 0, \"ticks\": \"\"}, \"colorscale\": [[0.0, \"#0d0887\"], [0.1111111111111111, \"#46039f\"], [0.2222222222222222, \"#7201a8\"], [0.3333333333333333, \"#9c179e\"], [0.4444444444444444, \"#bd3786\"], [0.5555555555555556, \"#d8576b\"], [0.6666666666666666, \"#ed7953\"], [0.7777777777777778, \"#fb9f3a\"], [0.8888888888888888, \"#fdca26\"], [1.0, \"#f0f921\"]], \"type\": \"heatmap\"}], \"heatmapgl\": [{\"colorbar\": {\"outlinewidth\": 0, \"ticks\": \"\"}, \"colorscale\": [[0.0, \"#0d0887\"], [0.1111111111111111, \"#46039f\"], [0.2222222222222222, \"#7201a8\"], [0.3333333333333333, \"#9c179e\"], [0.4444444444444444, \"#bd3786\"], [0.5555555555555556, \"#d8576b\"], [0.6666666666666666, \"#ed7953\"], [0.7777777777777778, \"#fb9f3a\"], [0.8888888888888888, \"#fdca26\"], [1.0, \"#f0f921\"]], \"type\": \"heatmapgl\"}], \"histogram\": [{\"marker\": {\"colorbar\": {\"outlinewidth\": 0, \"ticks\": \"\"}}, \"type\": \"histogram\"}], \"histogram2d\": [{\"colorbar\": {\"outlinewidth\": 0, \"ticks\": \"\"}, \"colorscale\": [[0.0, \"#0d0887\"], [0.1111111111111111, \"#46039f\"], [0.2222222222222222, \"#7201a8\"], [0.3333333333333333, \"#9c179e\"], [0.4444444444444444, \"#bd3786\"], [0.5555555555555556, \"#d8576b\"], [0.6666666666666666, \"#ed7953\"], [0.7777777777777778, \"#fb9f3a\"], [0.8888888888888888, \"#fdca26\"], [1.0, \"#f0f921\"]], \"type\": \"histogram2d\"}], \"histogram2dcontour\": [{\"colorbar\": {\"outlinewidth\": 0, \"ticks\": \"\"}, \"colorscale\": [[0.0, \"#0d0887\"], [0.1111111111111111, \"#46039f\"], [0.2222222222222222, \"#7201a8\"], [0.3333333333333333, \"#9c179e\"], [0.4444444444444444, \"#bd3786\"], [0.5555555555555556, \"#d8576b\"], [0.6666666666666666, \"#ed7953\"], [0.7777777777777778, \"#fb9f3a\"], [0.8888888888888888, \"#fdca26\"], [1.0, \"#f0f921\"]], \"type\": \"histogram2dcontour\"}], \"mesh3d\": [{\"colorbar\": {\"outlinewidth\": 0, \"ticks\": \"\"}, \"type\": \"mesh3d\"}], \"parcoords\": [{\"line\": {\"colorbar\": {\"outlinewidth\": 0, \"ticks\": \"\"}}, \"type\": \"parcoords\"}], \"pie\": [{\"automargin\": true, \"type\": \"pie\"}], \"scatter\": [{\"marker\": {\"colorbar\": {\"outlinewidth\": 0, \"ticks\": \"\"}}, \"type\": \"scatter\"}], \"scatter3d\": [{\"line\": {\"colorbar\": {\"outlinewidth\": 0, \"ticks\": \"\"}}, \"marker\": {\"colorbar\": {\"outlinewidth\": 0, \"ticks\": \"\"}}, \"type\": \"scatter3d\"}], \"scattercarpet\": [{\"marker\": {\"colorbar\": {\"outlinewidth\": 0, \"ticks\": \"\"}}, \"type\": \"scattercarpet\"}], \"scattergeo\": [{\"marker\": {\"colorbar\": {\"outlinewidth\": 0, \"ticks\": \"\"}}, \"type\": \"scattergeo\"}], \"scattergl\": [{\"marker\": {\"colorbar\": {\"outlinewidth\": 0, \"ticks\": \"\"}}, \"type\": \"scattergl\"}], \"scattermapbox\": [{\"marker\": {\"colorbar\": {\"outlinewidth\": 0, \"ticks\": \"\"}}, \"type\": \"scattermapbox\"}], \"scatterpolar\": [{\"marker\": {\"colorbar\": {\"outlinewidth\": 0, \"ticks\": \"\"}}, \"type\": \"scatterpolar\"}], \"scatterpolargl\": [{\"marker\": {\"colorbar\": {\"outlinewidth\": 0, \"ticks\": \"\"}}, \"type\": \"scatterpolargl\"}], \"scatterternary\": [{\"marker\": {\"colorbar\": {\"outlinewidth\": 0, \"ticks\": \"\"}}, \"type\": \"scatterternary\"}], \"surface\": [{\"colorbar\": {\"outlinewidth\": 0, \"ticks\": \"\"}, \"colorscale\": [[0.0, \"#0d0887\"], [0.1111111111111111, \"#46039f\"], [0.2222222222222222, \"#7201a8\"], [0.3333333333333333, \"#9c179e\"], [0.4444444444444444, \"#bd3786\"], [0.5555555555555556, \"#d8576b\"], [0.6666666666666666, \"#ed7953\"], [0.7777777777777778, \"#fb9f3a\"], [0.8888888888888888, \"#fdca26\"], [1.0, \"#f0f921\"]], \"type\": \"surface\"}], \"table\": [{\"cells\": {\"fill\": {\"color\": \"#EBF0F8\"}, \"line\": {\"color\": \"white\"}}, \"header\": {\"fill\": {\"color\": \"#C8D4E3\"}, \"line\": {\"color\": \"white\"}}, \"type\": \"table\"}]}, \"layout\": {\"annotationdefaults\": {\"arrowcolor\": \"#2a3f5f\", \"arrowhead\": 0, \"arrowwidth\": 1}, \"coloraxis\": {\"colorbar\": {\"outlinewidth\": 0, \"ticks\": \"\"}}, \"colorscale\": {\"diverging\": [[0, \"#8e0152\"], [0.1, \"#c51b7d\"], [0.2, \"#de77ae\"], [0.3, \"#f1b6da\"], [0.4, \"#fde0ef\"], [0.5, \"#f7f7f7\"], [0.6, \"#e6f5d0\"], [0.7, \"#b8e186\"], [0.8, \"#7fbc41\"], [0.9, \"#4d9221\"], [1, \"#276419\"]], \"sequential\": [[0.0, \"#0d0887\"], [0.1111111111111111, \"#46039f\"], [0.2222222222222222, \"#7201a8\"], [0.3333333333333333, \"#9c179e\"], [0.4444444444444444, \"#bd3786\"], [0.5555555555555556, \"#d8576b\"], [0.6666666666666666, \"#ed7953\"], [0.7777777777777778, \"#fb9f3a\"], [0.8888888888888888, \"#fdca26\"], [1.0, \"#f0f921\"]], \"sequentialminus\": [[0.0, \"#0d0887\"], [0.1111111111111111, \"#46039f\"], [0.2222222222222222, \"#7201a8\"], [0.3333333333333333, \"#9c179e\"], [0.4444444444444444, \"#bd3786\"], [0.5555555555555556, \"#d8576b\"], [0.6666666666666666, \"#ed7953\"], [0.7777777777777778, \"#fb9f3a\"], [0.8888888888888888, \"#fdca26\"], [1.0, \"#f0f921\"]]}, \"colorway\": [\"#636efa\", \"#EF553B\", \"#00cc96\", \"#ab63fa\", \"#FFA15A\", \"#19d3f3\", \"#FF6692\", \"#B6E880\", \"#FF97FF\", \"#FECB52\"], \"font\": {\"color\": \"#2a3f5f\"}, \"geo\": {\"bgcolor\": \"white\", \"lakecolor\": \"white\", \"landcolor\": \"#E5ECF6\", \"showlakes\": true, \"showland\": true, \"subunitcolor\": \"white\"}, \"hoverlabel\": {\"align\": \"left\"}, \"hovermode\": \"closest\", \"mapbox\": {\"style\": \"light\"}, \"paper_bgcolor\": \"white\", \"plot_bgcolor\": \"#E5ECF6\", \"polar\": {\"angularaxis\": {\"gridcolor\": \"white\", \"linecolor\": \"white\", \"ticks\": \"\"}, \"bgcolor\": \"#E5ECF6\", \"radialaxis\": {\"gridcolor\": \"white\", \"linecolor\": \"white\", \"ticks\": \"\"}}, \"scene\": {\"xaxis\": {\"backgroundcolor\": \"#E5ECF6\", \"gridcolor\": \"white\", \"gridwidth\": 2, \"linecolor\": \"white\", \"showbackground\": true, \"ticks\": \"\", \"zerolinecolor\": \"white\"}, \"yaxis\": {\"backgroundcolor\": \"#E5ECF6\", \"gridcolor\": \"white\", \"gridwidth\": 2, \"linecolor\": \"white\", \"showbackground\": true, \"ticks\": \"\", \"zerolinecolor\": \"white\"}, \"zaxis\": {\"backgroundcolor\": \"#E5ECF6\", \"gridcolor\": \"white\", \"gridwidth\": 2, \"linecolor\": \"white\", \"showbackground\": true, \"ticks\": \"\", \"zerolinecolor\": \"white\"}}, \"shapedefaults\": {\"line\": {\"color\": \"#2a3f5f\"}}, \"ternary\": {\"aaxis\": {\"gridcolor\": \"white\", \"linecolor\": \"white\", \"ticks\": \"\"}, \"baxis\": {\"gridcolor\": \"white\", \"linecolor\": \"white\", \"ticks\": \"\"}, \"bgcolor\": \"#E5ECF6\", \"caxis\": {\"gridcolor\": \"white\", \"linecolor\": \"white\", \"ticks\": \"\"}}, \"title\": {\"x\": 0.05}, \"xaxis\": {\"automargin\": true, \"gridcolor\": \"white\", \"linecolor\": \"white\", \"ticks\": \"\", \"title\": {\"standoff\": 15}, \"zerolinecolor\": \"white\", \"zerolinewidth\": 2}, \"yaxis\": {\"automargin\": true, \"gridcolor\": \"white\", \"linecolor\": \"white\", \"ticks\": \"\", \"title\": {\"standoff\": 15}, \"zerolinecolor\": \"white\", \"zerolinewidth\": 2}}}, \"title\": {\"text\": \"Representation of Different Visa Costs from Africa to Other Regions\"}},                        {\"responsive\": true}                    ).then(function(){\n",
       "                            \n",
       "var gd = document.getElementById('ce31f316-11a4-42d3-be50-d078cb928c7f');\n",
       "var x = new MutationObserver(function (mutations, observer) {{\n",
       "        var display = window.getComputedStyle(gd).display;\n",
       "        if (!display || display === 'none') {{\n",
       "            console.log([gd, 'removed!']);\n",
       "            Plotly.purge(gd);\n",
       "            observer.disconnect();\n",
       "        }}\n",
       "}});\n",
       "\n",
       "// Listen for the removal of the full notebook cells\n",
       "var notebookContainer = gd.closest('#notebook-container');\n",
       "if (notebookContainer) {{\n",
       "    x.observe(notebookContainer, {childList: true});\n",
       "}}\n",
       "\n",
       "// Listen for the clearing of the current output cell\n",
       "var outputEl = gd.closest('.output');\n",
       "if (outputEl) {{\n",
       "    x.observe(outputEl, {childList: true});\n",
       "}}\n",
       "\n",
       "                        })                };                });            </script>        </div>"
      ]
     },
     "metadata": {},
     "output_type": "display_data"
    }
   ],
   "source": [
    "fig = go.Figure()\n",
    "\n",
    "flight_paths = []\n",
    "for i in range(len(visa_costs_africa)):\n",
    "    fig.add_trace(\n",
    "        go.Scattergeo(\n",
    "            locationmode = 'ISO-3',\n",
    "            legendgroup = 'africa_tourist',\n",
    "            lon = [visa_costs_africa['source_lon'][i], visa_costs_africa['target_lon'][i]],\n",
    "            lat = [visa_costs_africa['source_lat'][i], visa_costs_africa['target_lat'][i]],\n",
    "            mode = 'lines',\n",
    "            name = visa_costs_africa['target_region'][i],\n",
    "            line = dict(width = float(visa_costs_africa['tourist_visa'][i]) / float(visa_costs_africa['tourist_visa'].max())*10,color = 'green')\n",
    "        )\n",
    "    )\n",
    "\n",
    "for i in range(len(visa_costs_africa)):\n",
    "    fig.add_trace(\n",
    "        go.Scattergeo(\n",
    "            locationmode = 'ISO-3',\n",
    "            legendgroup = 'africa_student',\n",
    "            lon = [visa_costs_africa['source_lon'][i], visa_costs_africa['target_lon'][i]],\n",
    "            lat = [visa_costs_africa['source_lat'][i], visa_costs_africa['target_lat'][i]],\n",
    "            mode = 'lines',\n",
    "            name = visa_costs_africa['target_region'][i],\n",
    "            line = dict(width = float(visa_costs_africa['student_visa'][i]) / float(visa_costs_africa['student_visa'].max())*10,color = 'blue')\n",
    "        )\n",
    "    )\n",
    "    \n",
    "for i in range(len(visa_costs_africa)):\n",
    "    fig.add_trace(\n",
    "        go.Scattergeo(\n",
    "            locationmode = 'ISO-3',\n",
    "            legendgroup = 'africa_business',\n",
    "            lon = [visa_costs_africa['source_lon'][i], visa_costs_africa['target_lon'][i]],\n",
    "            lat = [visa_costs_africa['source_lat'][i], visa_costs_africa['target_lat'][i]],\n",
    "            mode = 'lines',\n",
    "            name = visa_costs_africa['target_region'][i],\n",
    "            line = dict(width = float(visa_costs_africa['business_visa'][i]) / float(visa_costs_africa['business_visa'].max())*10,color = 'red')\n",
    "        )\n",
    "    )\n",
    "    \n",
    "for i in range(len(visa_costs_africa)):\n",
    "    fig.add_trace(\n",
    "        go.Scattergeo(\n",
    "            locationmode = 'ISO-3',\n",
    "            legendgroup = 'africa_work',\n",
    "            lon = [visa_costs_africa['source_lon'][i], visa_costs_africa['target_lon'][i]],\n",
    "            lat = [visa_costs_africa['source_lat'][i], visa_costs_africa['target_lat'][i]],\n",
    "            mode = 'lines',\n",
    "            name = visa_costs_africa['target_region'][i],\n",
    "            line = dict(width = float(visa_costs_africa['work_visa'][i]) / float(visa_costs_africa['work_visa'].max())*10,color = 'purple')\n",
    "        )\n",
    "    )\n",
    "    \n",
    "#for i in range(len(visa_costs_africa)):\n",
    "#    fig.add_trace(\n",
    "#        go.Scattergeo(\n",
    "#            locationmode = 'ISO-3',\n",
    "#            legendgroup = 'africa_family',\n",
    "#            lon = [visa_costs_africa['source_lon'][i], visa_costs_africa['target_lon'][i]],\n",
    "#            lat = [visa_costs_africa['source_lat'][i], visa_costs_africa['target_lat'][i]],\n",
    "#            mode = 'lines',\n",
    "#            name = visa_costs_africa['target_region'][i],\n",
    "#            line = dict(width = float(visa_costs_africa['family_reunification_visa'][i]) / float(visa_costs_africa['family_reunification_visa'].max())*10,color = 'deeppink')\n",
    "#        )\n",
    "#    )\n",
    "    \n",
    "#for i in range(len(visa_costs_africa)):\n",
    "#    fig.add_trace(\n",
    "#        go.Scattergeo(\n",
    "#            locationmode = 'ISO-3',\n",
    "#            legendgroup = 'africa_transit',\n",
    "#            lon = [visa_costs_africa['source_lon'][i], visa_costs_africa['target_lon'][i]],\n",
    "#            lat = [visa_costs_africa['source_lat'][i], visa_costs_africa['target_lat'][i]],\n",
    "#            mode = 'lines',\n",
    "#            name = visa_costs_africa['target_region'][i],\n",
    "#            line = dict(width = float(visa_costs_africa['transit_visa'][i]) / float(visa_costs_africa['transit_visa'].max())*10,color = 'turquoise')\n",
    "#        )\n",
    "#    )\n",
    "    \n",
    "fig.update_layout(\n",
    "    title_text = 'Representation of Different Visa Costs from Africa to Other Regions',\n",
    "    showlegend = True\n",
    ")\n",
    "\n",
    "fig.show()"
   ]
  },
  {
   "cell_type": "code",
   "execution_count": null,
   "metadata": {},
   "outputs": [],
   "source": []
  }
 ],
 "metadata": {
  "kernelspec": {
   "display_name": "Python 3",
   "language": "python",
   "name": "python3"
  },
  "language_info": {
   "codemirror_mode": {
    "name": "ipython",
    "version": 3
   },
   "file_extension": ".py",
   "mimetype": "text/x-python",
   "name": "python",
   "nbconvert_exporter": "python",
   "pygments_lexer": "ipython3",
   "version": "3.8.3"
  }
 },
 "nbformat": 4,
 "nbformat_minor": 4
}
